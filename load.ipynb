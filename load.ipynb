{
 "cells": [
  {
   "cell_type": "code",
   "execution_count": 6,
   "metadata": {},
   "outputs": [
    {
     "name": "stderr",
     "output_type": "stream",
     "text": [
      "WARNING:openml.datasets.functions:Could not download file from http://openml1.win.tue.nl/dataset1120/dataset_1120.pq: Bucket does not exist or is private.\n",
      "WARNING:openml.datasets.functions:Failed to download parquet, fallback on ARFF.\n",
      "WARNING:openml.datasets.functions:Could not download file from http://openml1.win.tue.nl/dataset1128/dataset_1128.pq: Bucket does not exist or is private.\n",
      "WARNING:openml.datasets.functions:Failed to download parquet, fallback on ARFF.\n",
      "WARNING:openml.datasets.functions:Could not download file from http://openml1.win.tue.nl/dataset1130/dataset_1130.pq: Bucket does not exist or is private.\n",
      "WARNING:openml.datasets.functions:Failed to download parquet, fallback on ARFF.\n",
      "WARNING:openml.datasets.functions:Could not download file from http://openml1.win.tue.nl/dataset1134/dataset_1134.pq: Bucket does not exist or is private.\n",
      "WARNING:openml.datasets.functions:Failed to download parquet, fallback on ARFF.\n",
      "WARNING:openml.datasets.functions:Could not download file from http://openml1.win.tue.nl/dataset1142/dataset_1142.pq: Bucket does not exist or is private.\n",
      "WARNING:openml.datasets.functions:Failed to download parquet, fallback on ARFF.\n",
      "WARNING:openml.datasets.functions:Could not download file from http://openml1.win.tue.nl/dataset1146/dataset_1146.pq: Bucket does not exist or is private.\n",
      "WARNING:openml.datasets.functions:Failed to download parquet, fallback on ARFF.\n",
      "WARNING:openml.datasets.functions:Could not download file from http://openml1.win.tue.nl/dataset1161/dataset_1161.pq: Bucket does not exist or is private.\n",
      "WARNING:openml.datasets.functions:Failed to download parquet, fallback on ARFF.\n",
      "WARNING:openml.datasets.functions:Could not download file from http://openml1.win.tue.nl/dataset1166/dataset_1166.pq: Bucket does not exist or is private.\n",
      "WARNING:openml.datasets.functions:Failed to download parquet, fallback on ARFF.\n",
      "WARNING:openml.datasets.functions:Could not download file from http://openml1.win.tue.nl/dataset6332/dataset_6332.pq: Bucket does not exist or is private.\n",
      "WARNING:openml.datasets.functions:Failed to download parquet, fallback on ARFF.\n",
      "WARNING:openml.datasets.functions:Could not download file from http://openml1.win.tue.nl/dataset40994/dataset_40994.pq: Bucket does not exist or is private.\n",
      "WARNING:openml.datasets.functions:Failed to download parquet, fallback on ARFF.\n",
      "WARNING:openml.datasets.functions:Could not download file from http://openml1.win.tue.nl/dataset40966/dataset_40966.pq: Bucket does not exist or is private.\n",
      "WARNING:openml.datasets.functions:Failed to download parquet, fallback on ARFF.\n"
     ]
    }
   ],
   "source": [
    "import openml\n",
    "benchmark_suite = openml.study.get_suite(293) # obtain the benchmark suite\n",
    "i = 1\n",
    "a = []\n",
    "tasks = []\n",
    "metric = set()\n",
    "for task_id in benchmark_suite.tasks:  # iterate over all tasks\n",
    "    task = openml.tasks.get_task(task_id)  # download the OpenML task\n",
    "    # tasks.append(task)\n",
    "    # features, targets = task.get_X_and_y()  # get the data\n",
    "    # a.append((features, targets))\n",
    "    metric.add(task.evaluation_measure)\n",
    "  \n",
    "\n",
    "    \n"
   ]
  },
  {
   "cell_type": "code",
   "execution_count": 7,
   "metadata": {},
   "outputs": [
    {
     "data": {
      "text/plain": [
       "{None, 'predictive_accuracy'}"
      ]
     },
     "execution_count": 7,
     "metadata": {},
     "output_type": "execute_result"
    }
   ],
   "source": [
    "metric"
   ]
  },
  {
   "cell_type": "code",
   "execution_count": 11,
   "metadata": {},
   "outputs": [
    {
     "data": {
      "text/plain": [
       "array([[nan,  0.,  1., ..., nan,  0., nan],\n",
       "       [nan,  0.,  0., ..., nan,  0., nan],\n",
       "       [nan,  0.,  0., ..., nan,  0., nan],\n",
       "       ...,\n",
       "       [nan,  0.,  7., ..., nan,  0., nan],\n",
       "       [nan,  0.,  1., ..., nan,  0., nan],\n",
       "       [nan,  0.,  1., ..., nan,  1., nan]], dtype=float32)"
      ]
     },
     "execution_count": 11,
     "metadata": {},
     "output_type": "execute_result"
    }
   ],
   "source": [
    "a[0][0]"
   ]
  },
  {
   "cell_type": "code",
   "execution_count": 17,
   "metadata": {},
   "outputs": [
    {
     "data": {
      "text/plain": [
       "False"
      ]
     },
     "execution_count": 17,
     "metadata": {},
     "output_type": "execute_result"
    }
   ],
   "source": [
    "import numpy as np\n",
    "Xtrain = []\n",
    "for i in a[0][0]:\n",
    "    temp = [j for j in i]\n",
    "    Xtrain.append(temp)\n",
    "Xtrain = np.array(Xtrain)\n",
    "\n"
   ]
  },
  {
   "cell_type": "code",
   "execution_count": 16,
   "metadata": {},
   "outputs": [
    {
     "data": {
      "text/plain": [
       "2"
      ]
     },
     "execution_count": 16,
     "metadata": {},
     "output_type": "execute_result"
    }
   ],
   "source": [
    "a[0][1]"
   ]
  },
  {
   "cell_type": "code",
   "execution_count": 1,
   "metadata": {},
   "outputs": [],
   "source": [
    "import numpy as np\n",
    "from scipy import sparse as sp\n",
    "from autogoal.datasets import datapath, download"
   ]
  },
  {
   "cell_type": "code",
   "execution_count": 2,
   "metadata": {},
   "outputs": [],
   "source": [
    "download(\"dorothea\")\n",
    "\n",
    "train_data = open(datapath(\"dorothea\") / \"dorothea_train.data\", \"r\")\n",
    "train_labels = open(datapath(\"dorothea\") / \"dorothea_train.labels\", \"r\")\n",
    "valid_data = open(datapath(\"dorothea\") / \"dorothea_valid.data\", \"r\")\n",
    "valid_labels = open(datapath(\"dorothea\") / \"dorothea_valid.labels\", \"r\")\n",
    "Xtrain = sp.lil_matrix((800, 100000), dtype=int)\n",
    "ytrain = []\n",
    "Xvalid = sp.lil_matrix((350, 100000), dtype=int)\n",
    "yvalid = []\n",
    "\n",
    "for row, line in enumerate(train_data):\n",
    "    for col in line.split():\n",
    "        Xtrain[row, int(col) - 1] = 1\n",
    "\n",
    "for row, line in enumerate(valid_data):\n",
    "    for col in line.split():\n",
    "        Xvalid[row, int(col) - 1] = 1\n",
    "    for line in train_labels:\n",
    "        ytrain.append(int(line))\n",
    "\n",
    "    for line in valid_labels:\n",
    "        yvalid.append(int(line))"
   ]
  },
  {
   "cell_type": "code",
   "execution_count": 4,
   "metadata": {},
   "outputs": [
    {
     "data": {
      "text/plain": [
       "scipy.sparse._lil.lil_matrix"
      ]
     },
     "execution_count": 4,
     "metadata": {},
     "output_type": "execute_result"
    }
   ],
   "source": [
    "type(Xtrain)"
   ]
  }
 ],
 "metadata": {
  "kernelspec": {
   "display_name": "Python 3",
   "language": "python",
   "name": "python3"
  },
  "language_info": {
   "codemirror_mode": {
    "name": "ipython",
    "version": 3
   },
   "file_extension": ".py",
   "mimetype": "text/x-python",
   "name": "python",
   "nbconvert_exporter": "python",
   "pygments_lexer": "ipython3",
   "version": "3.9.16"
  }
 },
 "nbformat": 4,
 "nbformat_minor": 2
}
