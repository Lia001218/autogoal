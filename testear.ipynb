{
 "cells": [
  {
   "cell_type": "code",
   "execution_count": 16,
   "metadata": {},
   "outputs": [
    {
     "data": {
      "text/html": [
       "<pre style=\"white-space:pre;overflow-x:auto;line-height:normal;font-family:Menlo,'DejaVu Sans Mono',consolas,'Courier New',monospace\"><span style=\"color: #7fbfbf; text-decoration-color: #7fbfbf\">[16:39:16] </span><span style=\"color: #800000; text-decoration-color: #800000\">WARNING </span> <span style=\"color: #800080; text-decoration-color: #800080\">/Users/liazerquera/.pyenv/versions/3.9.16/lib/python3.9/site-packages/openml/ta</span> <a href=\"file:///Users/liazerquera/.pyenv/versions/3.9.16/lib/python3.9/warnings.py\" target=\"_blank\"><span style=\"color: #7f7f7f; text-decoration-color: #7f7f7f\">warnings.py</span></a><span style=\"color: #7f7f7f; text-decoration-color: #7f7f7f\">:</span><a href=\"file:///Users/liazerquera/.pyenv/versions/3.9.16/lib/python3.9/warnings.py#109\" target=\"_blank\"><span style=\"color: #7f7f7f; text-decoration-color: #7f7f7f\">109</span></a>\n",
       "<span style=\"color: #7fbfbf; text-decoration-color: #7fbfbf\">           </span>         <span style=\"color: #800080; text-decoration-color: #800080\">sks/</span><span style=\"color: #ff00ff; text-decoration-color: #ff00ff\">functions.py</span>:<span style=\"color: #008080; text-decoration-color: #008080; font-weight: bold\">372</span>: FutureWarning: Starting from Version <span style=\"color: #008080; text-decoration-color: #008080; font-weight: bold\">0.15</span>.<span style=\"color: #008080; text-decoration-color: #008080; font-weight: bold\">0</span>               <span style=\"color: #7f7f7f; text-decoration-color: #7f7f7f\">               </span>\n",
       "<span style=\"color: #7fbfbf; text-decoration-color: #7fbfbf\">           </span>         `download_splits` will default to ``<span style=\"color: #ff0000; text-decoration-color: #ff0000; font-style: italic\">False</span>`` instead of ``<span style=\"color: #00ff00; text-decoration-color: #00ff00; font-style: italic\">True</span>`` and be          <span style=\"color: #7f7f7f; text-decoration-color: #7f7f7f\">               </span>\n",
       "<span style=\"color: #7fbfbf; text-decoration-color: #7fbfbf\">           </span>         independent from `download_data`. To disable this message until version <span style=\"color: #008080; text-decoration-color: #008080; font-weight: bold\">0.15</span>    <span style=\"color: #7f7f7f; text-decoration-color: #7f7f7f\">               </span>\n",
       "<span style=\"color: #7fbfbf; text-decoration-color: #7fbfbf\">           </span>         explicitly set `download_splits` to a bool.                                     <span style=\"color: #7f7f7f; text-decoration-color: #7f7f7f\">               </span>\n",
       "<span style=\"color: #7fbfbf; text-decoration-color: #7fbfbf\">           </span>           <span style=\"color: #800080; text-decoration-color: #800080; font-weight: bold\">warnings.warn</span><span style=\"font-weight: bold\">(</span>                                                                <span style=\"color: #7f7f7f; text-decoration-color: #7f7f7f\">               </span>\n",
       "<span style=\"color: #7fbfbf; text-decoration-color: #7fbfbf\">           </span>                                                                                         <span style=\"color: #7f7f7f; text-decoration-color: #7f7f7f\">               </span>\n",
       "</pre>\n"
      ],
      "text/plain": [
       "\u001b[2;36m[16:39:16]\u001b[0m\u001b[2;36m \u001b[0m\u001b[31mWARNING \u001b[0m \u001b[35m/Users/liazerquera/.pyenv/versions/3.9.16/lib/python3.9/site-packages/openml/ta\u001b[0m \u001b]8;id=48858;file:///Users/liazerquera/.pyenv/versions/3.9.16/lib/python3.9/warnings.py\u001b\\\u001b[2mwarnings.py\u001b[0m\u001b]8;;\u001b\\\u001b[2m:\u001b[0m\u001b]8;id=715978;file:///Users/liazerquera/.pyenv/versions/3.9.16/lib/python3.9/warnings.py#109\u001b\\\u001b[2m109\u001b[0m\u001b]8;;\u001b\\\n",
       "\u001b[2;36m           \u001b[0m         \u001b[35msks/\u001b[0m\u001b[95mfunctions.py\u001b[0m:\u001b[1;36m372\u001b[0m: FutureWarning: Starting from Version \u001b[1;36m0.15\u001b[0m.\u001b[1;36m0\u001b[0m               \u001b[2m               \u001b[0m\n",
       "\u001b[2;36m           \u001b[0m         `download_splits` will default to ``\u001b[3;91mFalse\u001b[0m`` instead of ``\u001b[3;92mTrue\u001b[0m`` and be          \u001b[2m               \u001b[0m\n",
       "\u001b[2;36m           \u001b[0m         independent from `download_data`. To disable this message until version \u001b[1;36m0.15\u001b[0m    \u001b[2m               \u001b[0m\n",
       "\u001b[2;36m           \u001b[0m         explicitly set `download_splits` to a bool.                                     \u001b[2m               \u001b[0m\n",
       "\u001b[2;36m           \u001b[0m           \u001b[1;35mwarnings.warn\u001b[0m\u001b[1m(\u001b[0m                                                                \u001b[2m               \u001b[0m\n",
       "\u001b[2;36m           \u001b[0m                                                                                         \u001b[2m               \u001b[0m\n"
      ]
     },
     "metadata": {},
     "output_type": "display_data"
    },
    {
     "data": {
      "text/html": [
       "<pre style=\"white-space:pre;overflow-x:auto;line-height:normal;font-family:Menlo,'DejaVu Sans Mono',consolas,'Courier New',monospace\"><span style=\"color: #7fbfbf; text-decoration-color: #7fbfbf\">           </span><span style=\"color: #800000; text-decoration-color: #800000\">WARNING </span> <span style=\"color: #800080; text-decoration-color: #800080\">/Users/liazerquera/.pyenv/versions/3.9.16/lib/python3.9/site-packages/openml/da</span> <a href=\"file:///Users/liazerquera/.pyenv/versions/3.9.16/lib/python3.9/warnings.py\" target=\"_blank\"><span style=\"color: #7f7f7f; text-decoration-color: #7f7f7f\">warnings.py</span></a><span style=\"color: #7f7f7f; text-decoration-color: #7f7f7f\">:</span><a href=\"file:///Users/liazerquera/.pyenv/versions/3.9.16/lib/python3.9/warnings.py#109\" target=\"_blank\"><span style=\"color: #7f7f7f; text-decoration-color: #7f7f7f\">109</span></a>\n",
       "<span style=\"color: #7fbfbf; text-decoration-color: #7fbfbf\">           </span>         <span style=\"color: #800080; text-decoration-color: #800080\">tasets/</span><span style=\"color: #ff00ff; text-decoration-color: #ff00ff\">functions.py</span>:<span style=\"color: #008080; text-decoration-color: #008080; font-weight: bold\">438</span>: FutureWarning: Starting from Version <span style=\"color: #008080; text-decoration-color: #008080; font-weight: bold\">0.15</span>              <span style=\"color: #7f7f7f; text-decoration-color: #7f7f7f\">               </span>\n",
       "<span style=\"color: #7fbfbf; text-decoration-color: #7fbfbf\">           </span>         `download_data`, `download_qualities`, and `download_features_meta_data` will   <span style=\"color: #7f7f7f; text-decoration-color: #7f7f7f\">               </span>\n",
       "<span style=\"color: #7fbfbf; text-decoration-color: #7fbfbf\">           </span>         all be ``<span style=\"color: #ff0000; text-decoration-color: #ff0000; font-style: italic\">False</span>`` instead of ``<span style=\"color: #00ff00; text-decoration-color: #00ff00; font-style: italic\">True</span>`` by default to enable lazy loading. To      <span style=\"color: #7f7f7f; text-decoration-color: #7f7f7f\">               </span>\n",
       "<span style=\"color: #7fbfbf; text-decoration-color: #7fbfbf\">           </span>         disable this message until version <span style=\"color: #008080; text-decoration-color: #008080; font-weight: bold\">0.15</span> explicitly set `download_data`,         <span style=\"color: #7f7f7f; text-decoration-color: #7f7f7f\">               </span>\n",
       "<span style=\"color: #7fbfbf; text-decoration-color: #7fbfbf\">           </span>         `download_qualities`, and `download_features_meta_data` to a bool while calling <span style=\"color: #7f7f7f; text-decoration-color: #7f7f7f\">               </span>\n",
       "<span style=\"color: #7fbfbf; text-decoration-color: #7fbfbf\">           </span>         `get_dataset`.                                                                  <span style=\"color: #7f7f7f; text-decoration-color: #7f7f7f\">               </span>\n",
       "<span style=\"color: #7fbfbf; text-decoration-color: #7fbfbf\">           </span>           <span style=\"color: #800080; text-decoration-color: #800080; font-weight: bold\">warnings.warn</span><span style=\"font-weight: bold\">(</span>                                                                <span style=\"color: #7f7f7f; text-decoration-color: #7f7f7f\">               </span>\n",
       "<span style=\"color: #7fbfbf; text-decoration-color: #7fbfbf\">           </span>                                                                                         <span style=\"color: #7f7f7f; text-decoration-color: #7f7f7f\">               </span>\n",
       "</pre>\n"
      ],
      "text/plain": [
       "\u001b[2;36m          \u001b[0m\u001b[2;36m \u001b[0m\u001b[31mWARNING \u001b[0m \u001b[35m/Users/liazerquera/.pyenv/versions/3.9.16/lib/python3.9/site-packages/openml/da\u001b[0m \u001b]8;id=925234;file:///Users/liazerquera/.pyenv/versions/3.9.16/lib/python3.9/warnings.py\u001b\\\u001b[2mwarnings.py\u001b[0m\u001b]8;;\u001b\\\u001b[2m:\u001b[0m\u001b]8;id=290498;file:///Users/liazerquera/.pyenv/versions/3.9.16/lib/python3.9/warnings.py#109\u001b\\\u001b[2m109\u001b[0m\u001b]8;;\u001b\\\n",
       "\u001b[2;36m           \u001b[0m         \u001b[35mtasets/\u001b[0m\u001b[95mfunctions.py\u001b[0m:\u001b[1;36m438\u001b[0m: FutureWarning: Starting from Version \u001b[1;36m0.15\u001b[0m              \u001b[2m               \u001b[0m\n",
       "\u001b[2;36m           \u001b[0m         `download_data`, `download_qualities`, and `download_features_meta_data` will   \u001b[2m               \u001b[0m\n",
       "\u001b[2;36m           \u001b[0m         all be ``\u001b[3;91mFalse\u001b[0m`` instead of ``\u001b[3;92mTrue\u001b[0m`` by default to enable lazy loading. To      \u001b[2m               \u001b[0m\n",
       "\u001b[2;36m           \u001b[0m         disable this message until version \u001b[1;36m0.15\u001b[0m explicitly set `download_data`,         \u001b[2m               \u001b[0m\n",
       "\u001b[2;36m           \u001b[0m         `download_qualities`, and `download_features_meta_data` to a bool while calling \u001b[2m               \u001b[0m\n",
       "\u001b[2;36m           \u001b[0m         `get_dataset`.                                                                  \u001b[2m               \u001b[0m\n",
       "\u001b[2;36m           \u001b[0m           \u001b[1;35mwarnings.warn\u001b[0m\u001b[1m(\u001b[0m                                                                \u001b[2m               \u001b[0m\n",
       "\u001b[2;36m           \u001b[0m                                                                                         \u001b[2m               \u001b[0m\n"
      ]
     },
     "metadata": {},
     "output_type": "display_data"
    },
    {
     "data": {
      "text/html": [
       "<pre style=\"white-space:pre;overflow-x:auto;line-height:normal;font-family:Menlo,'DejaVu Sans Mono',consolas,'Courier New',monospace\"><span style=\"color: #7fbfbf; text-decoration-color: #7fbfbf\">           </span><span style=\"color: #800000; text-decoration-color: #800000\">WARNING </span> <span style=\"color: #800080; text-decoration-color: #800080\">/var/folders/cm/y1ylnx7j2xzd3ty4g05zq63w0000gn/T/ipykernel_79572/</span><span style=\"color: #ff00ff; text-decoration-color: #ff00ff\">2430654900.py</span>: <a href=\"file:///Users/liazerquera/.pyenv/versions/3.9.16/lib/python3.9/warnings.py\" target=\"_blank\"><span style=\"color: #7f7f7f; text-decoration-color: #7f7f7f\">warnings.py</span></a><span style=\"color: #7f7f7f; text-decoration-color: #7f7f7f\">:</span><a href=\"file:///Users/liazerquera/.pyenv/versions/3.9.16/lib/python3.9/warnings.py#109\" target=\"_blank\"><span style=\"color: #7f7f7f; text-decoration-color: #7f7f7f\">109</span></a>\n",
       "<span style=\"color: #7fbfbf; text-decoration-color: #7fbfbf\">           </span>         <span style=\"color: #008080; text-decoration-color: #008080; font-weight: bold\">13</span>: FutureWarning: Support for `<span style=\"color: #808000; text-decoration-color: #808000\">dataset_format</span>=<span style=\"color: #008000; text-decoration-color: #008000\">'array'</span>` will be removed in      <span style=\"color: #7f7f7f; text-decoration-color: #7f7f7f\">               </span>\n",
       "<span style=\"color: #7fbfbf; text-decoration-color: #7fbfbf\">           </span>         <span style=\"color: #008080; text-decoration-color: #008080; font-weight: bold\">0.15</span>,start using `<span style=\"color: #808000; text-decoration-color: #808000\">dataset_format</span>=<span style=\"color: #008000; text-decoration-color: #008000\">'dataframe'</span> to ensure your code will continue  <span style=\"color: #7f7f7f; text-decoration-color: #7f7f7f\">               </span>\n",
       "<span style=\"color: #7fbfbf; text-decoration-color: #7fbfbf\">           </span>         to work. You can use the dataframe's `to_numpy` function to continue using      <span style=\"color: #7f7f7f; text-decoration-color: #7f7f7f\">               </span>\n",
       "<span style=\"color: #7fbfbf; text-decoration-color: #7fbfbf\">           </span>         numpy arrays.                                                                   <span style=\"color: #7f7f7f; text-decoration-color: #7f7f7f\">               </span>\n",
       "<span style=\"color: #7fbfbf; text-decoration-color: #7fbfbf\">           </span>           features, targets = <span style=\"color: #800080; text-decoration-color: #800080; font-weight: bold\">task.get_X_and_y</span><span style=\"font-weight: bold\">()</span>  # get the data                        <span style=\"color: #7f7f7f; text-decoration-color: #7f7f7f\">               </span>\n",
       "<span style=\"color: #7fbfbf; text-decoration-color: #7fbfbf\">           </span>                                                                                         <span style=\"color: #7f7f7f; text-decoration-color: #7f7f7f\">               </span>\n",
       "</pre>\n"
      ],
      "text/plain": [
       "\u001b[2;36m          \u001b[0m\u001b[2;36m \u001b[0m\u001b[31mWARNING \u001b[0m \u001b[35m/var/folders/cm/y1ylnx7j2xzd3ty4g05zq63w0000gn/T/ipykernel_79572/\u001b[0m\u001b[95m2430654900.py\u001b[0m: \u001b]8;id=809940;file:///Users/liazerquera/.pyenv/versions/3.9.16/lib/python3.9/warnings.py\u001b\\\u001b[2mwarnings.py\u001b[0m\u001b]8;;\u001b\\\u001b[2m:\u001b[0m\u001b]8;id=506612;file:///Users/liazerquera/.pyenv/versions/3.9.16/lib/python3.9/warnings.py#109\u001b\\\u001b[2m109\u001b[0m\u001b]8;;\u001b\\\n",
       "\u001b[2;36m           \u001b[0m         \u001b[1;36m13\u001b[0m: FutureWarning: Support for `\u001b[33mdataset_format\u001b[0m=\u001b[32m'array'\u001b[0m` will be removed in      \u001b[2m               \u001b[0m\n",
       "\u001b[2;36m           \u001b[0m         \u001b[1;36m0.15\u001b[0m,start using `\u001b[33mdataset_format\u001b[0m=\u001b[32m'dataframe'\u001b[0m to ensure your code will continue  \u001b[2m               \u001b[0m\n",
       "\u001b[2;36m           \u001b[0m         to work. You can use the dataframe's `to_numpy` function to continue using      \u001b[2m               \u001b[0m\n",
       "\u001b[2;36m           \u001b[0m         numpy arrays.                                                                   \u001b[2m               \u001b[0m\n",
       "\u001b[2;36m           \u001b[0m           features, targets = \u001b[1;35mtask.get_X_and_y\u001b[0m\u001b[1m(\u001b[0m\u001b[1m)\u001b[0m  # get the data                        \u001b[2m               \u001b[0m\n",
       "\u001b[2;36m           \u001b[0m                                                                                         \u001b[2m               \u001b[0m\n"
      ]
     },
     "metadata": {},
     "output_type": "display_data"
    },
    {
     "data": {
      "text/html": [
       "<pre style=\"white-space:pre;overflow-x:auto;line-height:normal;font-family:Menlo,'DejaVu Sans Mono',consolas,'Courier New',monospace\"><span style=\"color: #7fbfbf; text-decoration-color: #7fbfbf\">           </span><span style=\"color: #800000; text-decoration-color: #800000\">WARNING </span> <span style=\"color: #800080; text-decoration-color: #800080\">/Users/liazerquera/.pyenv/versions/3.9.16/lib/python3.9/site-packages/openml/ta</span> <a href=\"file:///Users/liazerquera/.pyenv/versions/3.9.16/lib/python3.9/warnings.py\" target=\"_blank\"><span style=\"color: #7f7f7f; text-decoration-color: #7f7f7f\">warnings.py</span></a><span style=\"color: #7f7f7f; text-decoration-color: #7f7f7f\">:</span><a href=\"file:///Users/liazerquera/.pyenv/versions/3.9.16/lib/python3.9/warnings.py#109\" target=\"_blank\"><span style=\"color: #7f7f7f; text-decoration-color: #7f7f7f\">109</span></a>\n",
       "<span style=\"color: #7fbfbf; text-decoration-color: #7fbfbf\">           </span>         <span style=\"color: #800080; text-decoration-color: #800080\">sks/</span><span style=\"color: #ff00ff; text-decoration-color: #ff00ff\">task.py</span>:<span style=\"color: #008080; text-decoration-color: #008080; font-weight: bold\">276</span>: FutureWarning: Support for `<span style=\"color: #808000; text-decoration-color: #808000\">dataset_format</span>=<span style=\"color: #008000; text-decoration-color: #008000\">'array'</span>` will be    <span style=\"color: #7f7f7f; text-decoration-color: #7f7f7f\">               </span>\n",
       "<span style=\"color: #7fbfbf; text-decoration-color: #7fbfbf\">           </span>         removed in <span style=\"color: #008080; text-decoration-color: #008080; font-weight: bold\">0.15</span>,start using `<span style=\"color: #808000; text-decoration-color: #808000\">dataset_format</span>=<span style=\"color: #008000; text-decoration-color: #008000\">'dataframe'</span> to ensure your code     <span style=\"color: #7f7f7f; text-decoration-color: #7f7f7f\">               </span>\n",
       "<span style=\"color: #7fbfbf; text-decoration-color: #7fbfbf\">           </span>         will continue to work. You can use the dataframe's `to_numpy` function to       <span style=\"color: #7f7f7f; text-decoration-color: #7f7f7f\">               </span>\n",
       "<span style=\"color: #7fbfbf; text-decoration-color: #7fbfbf\">           </span>         continue using numpy arrays.                                                    <span style=\"color: #7f7f7f; text-decoration-color: #7f7f7f\">               </span>\n",
       "<span style=\"color: #7fbfbf; text-decoration-color: #7fbfbf\">           </span>           X, y, _, _ = <span style=\"color: #800080; text-decoration-color: #800080; font-weight: bold\">dataset.get_data</span><span style=\"font-weight: bold\">(</span>                                                <span style=\"color: #7f7f7f; text-decoration-color: #7f7f7f\">               </span>\n",
       "<span style=\"color: #7fbfbf; text-decoration-color: #7fbfbf\">           </span>                                                                                         <span style=\"color: #7f7f7f; text-decoration-color: #7f7f7f\">               </span>\n",
       "</pre>\n"
      ],
      "text/plain": [
       "\u001b[2;36m          \u001b[0m\u001b[2;36m \u001b[0m\u001b[31mWARNING \u001b[0m \u001b[35m/Users/liazerquera/.pyenv/versions/3.9.16/lib/python3.9/site-packages/openml/ta\u001b[0m \u001b]8;id=886753;file:///Users/liazerquera/.pyenv/versions/3.9.16/lib/python3.9/warnings.py\u001b\\\u001b[2mwarnings.py\u001b[0m\u001b]8;;\u001b\\\u001b[2m:\u001b[0m\u001b]8;id=490336;file:///Users/liazerquera/.pyenv/versions/3.9.16/lib/python3.9/warnings.py#109\u001b\\\u001b[2m109\u001b[0m\u001b]8;;\u001b\\\n",
       "\u001b[2;36m           \u001b[0m         \u001b[35msks/\u001b[0m\u001b[95mtask.py\u001b[0m:\u001b[1;36m276\u001b[0m: FutureWarning: Support for `\u001b[33mdataset_format\u001b[0m=\u001b[32m'array'\u001b[0m` will be    \u001b[2m               \u001b[0m\n",
       "\u001b[2;36m           \u001b[0m         removed in \u001b[1;36m0.15\u001b[0m,start using `\u001b[33mdataset_format\u001b[0m=\u001b[32m'dataframe'\u001b[0m to ensure your code     \u001b[2m               \u001b[0m\n",
       "\u001b[2;36m           \u001b[0m         will continue to work. You can use the dataframe's `to_numpy` function to       \u001b[2m               \u001b[0m\n",
       "\u001b[2;36m           \u001b[0m         continue using numpy arrays.                                                    \u001b[2m               \u001b[0m\n",
       "\u001b[2;36m           \u001b[0m           X, y, _, _ = \u001b[1;35mdataset.get_data\u001b[0m\u001b[1m(\u001b[0m                                                \u001b[2m               \u001b[0m\n",
       "\u001b[2;36m           \u001b[0m                                                                                         \u001b[2m               \u001b[0m\n"
      ]
     },
     "metadata": {},
     "output_type": "display_data"
    },
    {
     "data": {
      "text/html": [
       "<pre style=\"white-space:pre;overflow-x:auto;line-height:normal;font-family:Menlo,'DejaVu Sans Mono',consolas,'Courier New',monospace\"><span style=\"color: #7fbfbf; text-decoration-color: #7fbfbf\">           </span><span style=\"color: #800000; text-decoration-color: #800000\">WARNING </span> <span style=\"color: #800080; text-decoration-color: #800080\">/Users/liazerquera/.pyenv/versions/3.9.16/lib/python3.9/site-packages/openml/ta</span> <a href=\"file:///Users/liazerquera/.pyenv/versions/3.9.16/lib/python3.9/warnings.py\" target=\"_blank\"><span style=\"color: #7f7f7f; text-decoration-color: #7f7f7f\">warnings.py</span></a><span style=\"color: #7f7f7f; text-decoration-color: #7f7f7f\">:</span><a href=\"file:///Users/liazerquera/.pyenv/versions/3.9.16/lib/python3.9/warnings.py#109\" target=\"_blank\"><span style=\"color: #7f7f7f; text-decoration-color: #7f7f7f\">109</span></a>\n",
       "<span style=\"color: #7fbfbf; text-decoration-color: #7fbfbf\">           </span>         <span style=\"color: #800080; text-decoration-color: #800080\">sks/</span><span style=\"color: #ff00ff; text-decoration-color: #ff00ff\">functions.py</span>:<span style=\"color: #008080; text-decoration-color: #008080; font-weight: bold\">372</span>: FutureWarning: Starting from Version <span style=\"color: #008080; text-decoration-color: #008080; font-weight: bold\">0.15</span>.<span style=\"color: #008080; text-decoration-color: #008080; font-weight: bold\">0</span>               <span style=\"color: #7f7f7f; text-decoration-color: #7f7f7f\">               </span>\n",
       "<span style=\"color: #7fbfbf; text-decoration-color: #7fbfbf\">           </span>         `download_splits` will default to ``<span style=\"color: #ff0000; text-decoration-color: #ff0000; font-style: italic\">False</span>`` instead of ``<span style=\"color: #00ff00; text-decoration-color: #00ff00; font-style: italic\">True</span>`` and be          <span style=\"color: #7f7f7f; text-decoration-color: #7f7f7f\">               </span>\n",
       "<span style=\"color: #7fbfbf; text-decoration-color: #7fbfbf\">           </span>         independent from `download_data`. To disable this message until version <span style=\"color: #008080; text-decoration-color: #008080; font-weight: bold\">0.15</span>    <span style=\"color: #7f7f7f; text-decoration-color: #7f7f7f\">               </span>\n",
       "<span style=\"color: #7fbfbf; text-decoration-color: #7fbfbf\">           </span>         explicitly set `download_splits` to a bool.                                     <span style=\"color: #7f7f7f; text-decoration-color: #7f7f7f\">               </span>\n",
       "<span style=\"color: #7fbfbf; text-decoration-color: #7fbfbf\">           </span>           <span style=\"color: #800080; text-decoration-color: #800080; font-weight: bold\">warnings.warn</span><span style=\"font-weight: bold\">(</span>                                                                <span style=\"color: #7f7f7f; text-decoration-color: #7f7f7f\">               </span>\n",
       "<span style=\"color: #7fbfbf; text-decoration-color: #7fbfbf\">           </span>                                                                                         <span style=\"color: #7f7f7f; text-decoration-color: #7f7f7f\">               </span>\n",
       "</pre>\n"
      ],
      "text/plain": [
       "\u001b[2;36m          \u001b[0m\u001b[2;36m \u001b[0m\u001b[31mWARNING \u001b[0m \u001b[35m/Users/liazerquera/.pyenv/versions/3.9.16/lib/python3.9/site-packages/openml/ta\u001b[0m \u001b]8;id=288898;file:///Users/liazerquera/.pyenv/versions/3.9.16/lib/python3.9/warnings.py\u001b\\\u001b[2mwarnings.py\u001b[0m\u001b]8;;\u001b\\\u001b[2m:\u001b[0m\u001b]8;id=50382;file:///Users/liazerquera/.pyenv/versions/3.9.16/lib/python3.9/warnings.py#109\u001b\\\u001b[2m109\u001b[0m\u001b]8;;\u001b\\\n",
       "\u001b[2;36m           \u001b[0m         \u001b[35msks/\u001b[0m\u001b[95mfunctions.py\u001b[0m:\u001b[1;36m372\u001b[0m: FutureWarning: Starting from Version \u001b[1;36m0.15\u001b[0m.\u001b[1;36m0\u001b[0m               \u001b[2m               \u001b[0m\n",
       "\u001b[2;36m           \u001b[0m         `download_splits` will default to ``\u001b[3;91mFalse\u001b[0m`` instead of ``\u001b[3;92mTrue\u001b[0m`` and be          \u001b[2m               \u001b[0m\n",
       "\u001b[2;36m           \u001b[0m         independent from `download_data`. To disable this message until version \u001b[1;36m0.15\u001b[0m    \u001b[2m               \u001b[0m\n",
       "\u001b[2;36m           \u001b[0m         explicitly set `download_splits` to a bool.                                     \u001b[2m               \u001b[0m\n",
       "\u001b[2;36m           \u001b[0m           \u001b[1;35mwarnings.warn\u001b[0m\u001b[1m(\u001b[0m                                                                \u001b[2m               \u001b[0m\n",
       "\u001b[2;36m           \u001b[0m                                                                                         \u001b[2m               \u001b[0m\n"
      ]
     },
     "metadata": {},
     "output_type": "display_data"
    },
    {
     "data": {
      "text/html": [
       "<pre style=\"white-space:pre;overflow-x:auto;line-height:normal;font-family:Menlo,'DejaVu Sans Mono',consolas,'Courier New',monospace\"><span style=\"color: #7fbfbf; text-decoration-color: #7fbfbf\">           </span><span style=\"color: #800000; text-decoration-color: #800000\">WARNING </span> <span style=\"color: #800080; text-decoration-color: #800080\">/Users/liazerquera/.pyenv/versions/3.9.16/lib/python3.9/site-packages/openml/da</span> <a href=\"file:///Users/liazerquera/.pyenv/versions/3.9.16/lib/python3.9/warnings.py\" target=\"_blank\"><span style=\"color: #7f7f7f; text-decoration-color: #7f7f7f\">warnings.py</span></a><span style=\"color: #7f7f7f; text-decoration-color: #7f7f7f\">:</span><a href=\"file:///Users/liazerquera/.pyenv/versions/3.9.16/lib/python3.9/warnings.py#109\" target=\"_blank\"><span style=\"color: #7f7f7f; text-decoration-color: #7f7f7f\">109</span></a>\n",
       "<span style=\"color: #7fbfbf; text-decoration-color: #7fbfbf\">           </span>         <span style=\"color: #800080; text-decoration-color: #800080\">tasets/</span><span style=\"color: #ff00ff; text-decoration-color: #ff00ff\">functions.py</span>:<span style=\"color: #008080; text-decoration-color: #008080; font-weight: bold\">438</span>: FutureWarning: Starting from Version <span style=\"color: #008080; text-decoration-color: #008080; font-weight: bold\">0.15</span>              <span style=\"color: #7f7f7f; text-decoration-color: #7f7f7f\">               </span>\n",
       "<span style=\"color: #7fbfbf; text-decoration-color: #7fbfbf\">           </span>         `download_data`, `download_qualities`, and `download_features_meta_data` will   <span style=\"color: #7f7f7f; text-decoration-color: #7f7f7f\">               </span>\n",
       "<span style=\"color: #7fbfbf; text-decoration-color: #7fbfbf\">           </span>         all be ``<span style=\"color: #ff0000; text-decoration-color: #ff0000; font-style: italic\">False</span>`` instead of ``<span style=\"color: #00ff00; text-decoration-color: #00ff00; font-style: italic\">True</span>`` by default to enable lazy loading. To      <span style=\"color: #7f7f7f; text-decoration-color: #7f7f7f\">               </span>\n",
       "<span style=\"color: #7fbfbf; text-decoration-color: #7fbfbf\">           </span>         disable this message until version <span style=\"color: #008080; text-decoration-color: #008080; font-weight: bold\">0.15</span> explicitly set `download_data`,         <span style=\"color: #7f7f7f; text-decoration-color: #7f7f7f\">               </span>\n",
       "<span style=\"color: #7fbfbf; text-decoration-color: #7fbfbf\">           </span>         `download_qualities`, and `download_features_meta_data` to a bool while calling <span style=\"color: #7f7f7f; text-decoration-color: #7f7f7f\">               </span>\n",
       "<span style=\"color: #7fbfbf; text-decoration-color: #7fbfbf\">           </span>         `get_dataset`.                                                                  <span style=\"color: #7f7f7f; text-decoration-color: #7f7f7f\">               </span>\n",
       "<span style=\"color: #7fbfbf; text-decoration-color: #7fbfbf\">           </span>           <span style=\"color: #800080; text-decoration-color: #800080; font-weight: bold\">warnings.warn</span><span style=\"font-weight: bold\">(</span>                                                                <span style=\"color: #7f7f7f; text-decoration-color: #7f7f7f\">               </span>\n",
       "<span style=\"color: #7fbfbf; text-decoration-color: #7fbfbf\">           </span>                                                                                         <span style=\"color: #7f7f7f; text-decoration-color: #7f7f7f\">               </span>\n",
       "</pre>\n"
      ],
      "text/plain": [
       "\u001b[2;36m          \u001b[0m\u001b[2;36m \u001b[0m\u001b[31mWARNING \u001b[0m \u001b[35m/Users/liazerquera/.pyenv/versions/3.9.16/lib/python3.9/site-packages/openml/da\u001b[0m \u001b]8;id=503163;file:///Users/liazerquera/.pyenv/versions/3.9.16/lib/python3.9/warnings.py\u001b\\\u001b[2mwarnings.py\u001b[0m\u001b]8;;\u001b\\\u001b[2m:\u001b[0m\u001b]8;id=543018;file:///Users/liazerquera/.pyenv/versions/3.9.16/lib/python3.9/warnings.py#109\u001b\\\u001b[2m109\u001b[0m\u001b]8;;\u001b\\\n",
       "\u001b[2;36m           \u001b[0m         \u001b[35mtasets/\u001b[0m\u001b[95mfunctions.py\u001b[0m:\u001b[1;36m438\u001b[0m: FutureWarning: Starting from Version \u001b[1;36m0.15\u001b[0m              \u001b[2m               \u001b[0m\n",
       "\u001b[2;36m           \u001b[0m         `download_data`, `download_qualities`, and `download_features_meta_data` will   \u001b[2m               \u001b[0m\n",
       "\u001b[2;36m           \u001b[0m         all be ``\u001b[3;91mFalse\u001b[0m`` instead of ``\u001b[3;92mTrue\u001b[0m`` by default to enable lazy loading. To      \u001b[2m               \u001b[0m\n",
       "\u001b[2;36m           \u001b[0m         disable this message until version \u001b[1;36m0.15\u001b[0m explicitly set `download_data`,         \u001b[2m               \u001b[0m\n",
       "\u001b[2;36m           \u001b[0m         `download_qualities`, and `download_features_meta_data` to a bool while calling \u001b[2m               \u001b[0m\n",
       "\u001b[2;36m           \u001b[0m         `get_dataset`.                                                                  \u001b[2m               \u001b[0m\n",
       "\u001b[2;36m           \u001b[0m           \u001b[1;35mwarnings.warn\u001b[0m\u001b[1m(\u001b[0m                                                                \u001b[2m               \u001b[0m\n",
       "\u001b[2;36m           \u001b[0m                                                                                         \u001b[2m               \u001b[0m\n"
      ]
     },
     "metadata": {},
     "output_type": "display_data"
    },
    {
     "data": {
      "text/html": [
       "<pre style=\"white-space:pre;overflow-x:auto;line-height:normal;font-family:Menlo,'DejaVu Sans Mono',consolas,'Courier New',monospace\"><span style=\"color: #7fbfbf; text-decoration-color: #7fbfbf\">           </span><span style=\"color: #800000; text-decoration-color: #800000\">WARNING </span> <span style=\"color: #800080; text-decoration-color: #800080\">/var/folders/cm/y1ylnx7j2xzd3ty4g05zq63w0000gn/T/ipykernel_79572/</span><span style=\"color: #ff00ff; text-decoration-color: #ff00ff\">2430654900.py</span>: <a href=\"file:///Users/liazerquera/.pyenv/versions/3.9.16/lib/python3.9/warnings.py\" target=\"_blank\"><span style=\"color: #7f7f7f; text-decoration-color: #7f7f7f\">warnings.py</span></a><span style=\"color: #7f7f7f; text-decoration-color: #7f7f7f\">:</span><a href=\"file:///Users/liazerquera/.pyenv/versions/3.9.16/lib/python3.9/warnings.py#109\" target=\"_blank\"><span style=\"color: #7f7f7f; text-decoration-color: #7f7f7f\">109</span></a>\n",
       "<span style=\"color: #7fbfbf; text-decoration-color: #7fbfbf\">           </span>         <span style=\"color: #008080; text-decoration-color: #008080; font-weight: bold\">13</span>: FutureWarning: Support for `<span style=\"color: #808000; text-decoration-color: #808000\">dataset_format</span>=<span style=\"color: #008000; text-decoration-color: #008000\">'array'</span>` will be removed in      <span style=\"color: #7f7f7f; text-decoration-color: #7f7f7f\">               </span>\n",
       "<span style=\"color: #7fbfbf; text-decoration-color: #7fbfbf\">           </span>         <span style=\"color: #008080; text-decoration-color: #008080; font-weight: bold\">0.15</span>,start using `<span style=\"color: #808000; text-decoration-color: #808000\">dataset_format</span>=<span style=\"color: #008000; text-decoration-color: #008000\">'dataframe'</span> to ensure your code will continue  <span style=\"color: #7f7f7f; text-decoration-color: #7f7f7f\">               </span>\n",
       "<span style=\"color: #7fbfbf; text-decoration-color: #7fbfbf\">           </span>         to work. You can use the dataframe's `to_numpy` function to continue using      <span style=\"color: #7f7f7f; text-decoration-color: #7f7f7f\">               </span>\n",
       "<span style=\"color: #7fbfbf; text-decoration-color: #7fbfbf\">           </span>         numpy arrays.                                                                   <span style=\"color: #7f7f7f; text-decoration-color: #7f7f7f\">               </span>\n",
       "<span style=\"color: #7fbfbf; text-decoration-color: #7fbfbf\">           </span>           features, targets = <span style=\"color: #800080; text-decoration-color: #800080; font-weight: bold\">task.get_X_and_y</span><span style=\"font-weight: bold\">()</span>  # get the data                        <span style=\"color: #7f7f7f; text-decoration-color: #7f7f7f\">               </span>\n",
       "<span style=\"color: #7fbfbf; text-decoration-color: #7fbfbf\">           </span>                                                                                         <span style=\"color: #7f7f7f; text-decoration-color: #7f7f7f\">               </span>\n",
       "</pre>\n"
      ],
      "text/plain": [
       "\u001b[2;36m          \u001b[0m\u001b[2;36m \u001b[0m\u001b[31mWARNING \u001b[0m \u001b[35m/var/folders/cm/y1ylnx7j2xzd3ty4g05zq63w0000gn/T/ipykernel_79572/\u001b[0m\u001b[95m2430654900.py\u001b[0m: \u001b]8;id=151320;file:///Users/liazerquera/.pyenv/versions/3.9.16/lib/python3.9/warnings.py\u001b\\\u001b[2mwarnings.py\u001b[0m\u001b]8;;\u001b\\\u001b[2m:\u001b[0m\u001b]8;id=868724;file:///Users/liazerquera/.pyenv/versions/3.9.16/lib/python3.9/warnings.py#109\u001b\\\u001b[2m109\u001b[0m\u001b]8;;\u001b\\\n",
       "\u001b[2;36m           \u001b[0m         \u001b[1;36m13\u001b[0m: FutureWarning: Support for `\u001b[33mdataset_format\u001b[0m=\u001b[32m'array'\u001b[0m` will be removed in      \u001b[2m               \u001b[0m\n",
       "\u001b[2;36m           \u001b[0m         \u001b[1;36m0.15\u001b[0m,start using `\u001b[33mdataset_format\u001b[0m=\u001b[32m'dataframe'\u001b[0m to ensure your code will continue  \u001b[2m               \u001b[0m\n",
       "\u001b[2;36m           \u001b[0m         to work. You can use the dataframe's `to_numpy` function to continue using      \u001b[2m               \u001b[0m\n",
       "\u001b[2;36m           \u001b[0m         numpy arrays.                                                                   \u001b[2m               \u001b[0m\n",
       "\u001b[2;36m           \u001b[0m           features, targets = \u001b[1;35mtask.get_X_and_y\u001b[0m\u001b[1m(\u001b[0m\u001b[1m)\u001b[0m  # get the data                        \u001b[2m               \u001b[0m\n",
       "\u001b[2;36m           \u001b[0m                                                                                         \u001b[2m               \u001b[0m\n"
      ]
     },
     "metadata": {},
     "output_type": "display_data"
    },
    {
     "data": {
      "text/html": [
       "<pre style=\"white-space:pre;overflow-x:auto;line-height:normal;font-family:Menlo,'DejaVu Sans Mono',consolas,'Courier New',monospace\"><span style=\"color: #7fbfbf; text-decoration-color: #7fbfbf\">           </span><span style=\"color: #800000; text-decoration-color: #800000\">WARNING </span> <span style=\"color: #800080; text-decoration-color: #800080\">/Users/liazerquera/.pyenv/versions/3.9.16/lib/python3.9/site-packages/openml/ta</span> <a href=\"file:///Users/liazerquera/.pyenv/versions/3.9.16/lib/python3.9/warnings.py\" target=\"_blank\"><span style=\"color: #7f7f7f; text-decoration-color: #7f7f7f\">warnings.py</span></a><span style=\"color: #7f7f7f; text-decoration-color: #7f7f7f\">:</span><a href=\"file:///Users/liazerquera/.pyenv/versions/3.9.16/lib/python3.9/warnings.py#109\" target=\"_blank\"><span style=\"color: #7f7f7f; text-decoration-color: #7f7f7f\">109</span></a>\n",
       "<span style=\"color: #7fbfbf; text-decoration-color: #7fbfbf\">           </span>         <span style=\"color: #800080; text-decoration-color: #800080\">sks/</span><span style=\"color: #ff00ff; text-decoration-color: #ff00ff\">task.py</span>:<span style=\"color: #008080; text-decoration-color: #008080; font-weight: bold\">276</span>: FutureWarning: Support for `<span style=\"color: #808000; text-decoration-color: #808000\">dataset_format</span>=<span style=\"color: #008000; text-decoration-color: #008000\">'array'</span>` will be    <span style=\"color: #7f7f7f; text-decoration-color: #7f7f7f\">               </span>\n",
       "<span style=\"color: #7fbfbf; text-decoration-color: #7fbfbf\">           </span>         removed in <span style=\"color: #008080; text-decoration-color: #008080; font-weight: bold\">0.15</span>,start using `<span style=\"color: #808000; text-decoration-color: #808000\">dataset_format</span>=<span style=\"color: #008000; text-decoration-color: #008000\">'dataframe'</span> to ensure your code     <span style=\"color: #7f7f7f; text-decoration-color: #7f7f7f\">               </span>\n",
       "<span style=\"color: #7fbfbf; text-decoration-color: #7fbfbf\">           </span>         will continue to work. You can use the dataframe's `to_numpy` function to       <span style=\"color: #7f7f7f; text-decoration-color: #7f7f7f\">               </span>\n",
       "<span style=\"color: #7fbfbf; text-decoration-color: #7fbfbf\">           </span>         continue using numpy arrays.                                                    <span style=\"color: #7f7f7f; text-decoration-color: #7f7f7f\">               </span>\n",
       "<span style=\"color: #7fbfbf; text-decoration-color: #7fbfbf\">           </span>           X, y, _, _ = <span style=\"color: #800080; text-decoration-color: #800080; font-weight: bold\">dataset.get_data</span><span style=\"font-weight: bold\">(</span>                                                <span style=\"color: #7f7f7f; text-decoration-color: #7f7f7f\">               </span>\n",
       "<span style=\"color: #7fbfbf; text-decoration-color: #7fbfbf\">           </span>                                                                                         <span style=\"color: #7f7f7f; text-decoration-color: #7f7f7f\">               </span>\n",
       "</pre>\n"
      ],
      "text/plain": [
       "\u001b[2;36m          \u001b[0m\u001b[2;36m \u001b[0m\u001b[31mWARNING \u001b[0m \u001b[35m/Users/liazerquera/.pyenv/versions/3.9.16/lib/python3.9/site-packages/openml/ta\u001b[0m \u001b]8;id=257000;file:///Users/liazerquera/.pyenv/versions/3.9.16/lib/python3.9/warnings.py\u001b\\\u001b[2mwarnings.py\u001b[0m\u001b]8;;\u001b\\\u001b[2m:\u001b[0m\u001b]8;id=303985;file:///Users/liazerquera/.pyenv/versions/3.9.16/lib/python3.9/warnings.py#109\u001b\\\u001b[2m109\u001b[0m\u001b]8;;\u001b\\\n",
       "\u001b[2;36m           \u001b[0m         \u001b[35msks/\u001b[0m\u001b[95mtask.py\u001b[0m:\u001b[1;36m276\u001b[0m: FutureWarning: Support for `\u001b[33mdataset_format\u001b[0m=\u001b[32m'array'\u001b[0m` will be    \u001b[2m               \u001b[0m\n",
       "\u001b[2;36m           \u001b[0m         removed in \u001b[1;36m0.15\u001b[0m,start using `\u001b[33mdataset_format\u001b[0m=\u001b[32m'dataframe'\u001b[0m to ensure your code     \u001b[2m               \u001b[0m\n",
       "\u001b[2;36m           \u001b[0m         will continue to work. You can use the dataframe's `to_numpy` function to       \u001b[2m               \u001b[0m\n",
       "\u001b[2;36m           \u001b[0m         continue using numpy arrays.                                                    \u001b[2m               \u001b[0m\n",
       "\u001b[2;36m           \u001b[0m           X, y, _, _ = \u001b[1;35mdataset.get_data\u001b[0m\u001b[1m(\u001b[0m                                                \u001b[2m               \u001b[0m\n",
       "\u001b[2;36m           \u001b[0m                                                                                         \u001b[2m               \u001b[0m\n"
      ]
     },
     "metadata": {},
     "output_type": "display_data"
    },
    {
     "data": {
      "text/html": [
       "<pre style=\"white-space:pre;overflow-x:auto;line-height:normal;font-family:Menlo,'DejaVu Sans Mono',consolas,'Courier New',monospace\"><span style=\"color: #7fbfbf; text-decoration-color: #7fbfbf\">           </span><span style=\"color: #800000; text-decoration-color: #800000\">WARNING </span> <span style=\"color: #800080; text-decoration-color: #800080\">/Users/liazerquera/.pyenv/versions/3.9.16/lib/python3.9/site-packages/openml/ta</span> <a href=\"file:///Users/liazerquera/.pyenv/versions/3.9.16/lib/python3.9/warnings.py\" target=\"_blank\"><span style=\"color: #7f7f7f; text-decoration-color: #7f7f7f\">warnings.py</span></a><span style=\"color: #7f7f7f; text-decoration-color: #7f7f7f\">:</span><a href=\"file:///Users/liazerquera/.pyenv/versions/3.9.16/lib/python3.9/warnings.py#109\" target=\"_blank\"><span style=\"color: #7f7f7f; text-decoration-color: #7f7f7f\">109</span></a>\n",
       "<span style=\"color: #7fbfbf; text-decoration-color: #7fbfbf\">           </span>         <span style=\"color: #800080; text-decoration-color: #800080\">sks/</span><span style=\"color: #ff00ff; text-decoration-color: #ff00ff\">functions.py</span>:<span style=\"color: #008080; text-decoration-color: #008080; font-weight: bold\">372</span>: FutureWarning: Starting from Version <span style=\"color: #008080; text-decoration-color: #008080; font-weight: bold\">0.15</span>.<span style=\"color: #008080; text-decoration-color: #008080; font-weight: bold\">0</span>               <span style=\"color: #7f7f7f; text-decoration-color: #7f7f7f\">               </span>\n",
       "<span style=\"color: #7fbfbf; text-decoration-color: #7fbfbf\">           </span>         `download_splits` will default to ``<span style=\"color: #ff0000; text-decoration-color: #ff0000; font-style: italic\">False</span>`` instead of ``<span style=\"color: #00ff00; text-decoration-color: #00ff00; font-style: italic\">True</span>`` and be          <span style=\"color: #7f7f7f; text-decoration-color: #7f7f7f\">               </span>\n",
       "<span style=\"color: #7fbfbf; text-decoration-color: #7fbfbf\">           </span>         independent from `download_data`. To disable this message until version <span style=\"color: #008080; text-decoration-color: #008080; font-weight: bold\">0.15</span>    <span style=\"color: #7f7f7f; text-decoration-color: #7f7f7f\">               </span>\n",
       "<span style=\"color: #7fbfbf; text-decoration-color: #7fbfbf\">           </span>         explicitly set `download_splits` to a bool.                                     <span style=\"color: #7f7f7f; text-decoration-color: #7f7f7f\">               </span>\n",
       "<span style=\"color: #7fbfbf; text-decoration-color: #7fbfbf\">           </span>           <span style=\"color: #800080; text-decoration-color: #800080; font-weight: bold\">warnings.warn</span><span style=\"font-weight: bold\">(</span>                                                                <span style=\"color: #7f7f7f; text-decoration-color: #7f7f7f\">               </span>\n",
       "<span style=\"color: #7fbfbf; text-decoration-color: #7fbfbf\">           </span>                                                                                         <span style=\"color: #7f7f7f; text-decoration-color: #7f7f7f\">               </span>\n",
       "</pre>\n"
      ],
      "text/plain": [
       "\u001b[2;36m          \u001b[0m\u001b[2;36m \u001b[0m\u001b[31mWARNING \u001b[0m \u001b[35m/Users/liazerquera/.pyenv/versions/3.9.16/lib/python3.9/site-packages/openml/ta\u001b[0m \u001b]8;id=408510;file:///Users/liazerquera/.pyenv/versions/3.9.16/lib/python3.9/warnings.py\u001b\\\u001b[2mwarnings.py\u001b[0m\u001b]8;;\u001b\\\u001b[2m:\u001b[0m\u001b]8;id=606164;file:///Users/liazerquera/.pyenv/versions/3.9.16/lib/python3.9/warnings.py#109\u001b\\\u001b[2m109\u001b[0m\u001b]8;;\u001b\\\n",
       "\u001b[2;36m           \u001b[0m         \u001b[35msks/\u001b[0m\u001b[95mfunctions.py\u001b[0m:\u001b[1;36m372\u001b[0m: FutureWarning: Starting from Version \u001b[1;36m0.15\u001b[0m.\u001b[1;36m0\u001b[0m               \u001b[2m               \u001b[0m\n",
       "\u001b[2;36m           \u001b[0m         `download_splits` will default to ``\u001b[3;91mFalse\u001b[0m`` instead of ``\u001b[3;92mTrue\u001b[0m`` and be          \u001b[2m               \u001b[0m\n",
       "\u001b[2;36m           \u001b[0m         independent from `download_data`. To disable this message until version \u001b[1;36m0.15\u001b[0m    \u001b[2m               \u001b[0m\n",
       "\u001b[2;36m           \u001b[0m         explicitly set `download_splits` to a bool.                                     \u001b[2m               \u001b[0m\n",
       "\u001b[2;36m           \u001b[0m           \u001b[1;35mwarnings.warn\u001b[0m\u001b[1m(\u001b[0m                                                                \u001b[2m               \u001b[0m\n",
       "\u001b[2;36m           \u001b[0m                                                                                         \u001b[2m               \u001b[0m\n"
      ]
     },
     "metadata": {},
     "output_type": "display_data"
    },
    {
     "data": {
      "text/html": [
       "<pre style=\"white-space:pre;overflow-x:auto;line-height:normal;font-family:Menlo,'DejaVu Sans Mono',consolas,'Courier New',monospace\"><span style=\"color: #7fbfbf; text-decoration-color: #7fbfbf\">           </span><span style=\"color: #800000; text-decoration-color: #800000\">WARNING </span> <span style=\"color: #800080; text-decoration-color: #800080\">/Users/liazerquera/.pyenv/versions/3.9.16/lib/python3.9/site-packages/openml/da</span> <a href=\"file:///Users/liazerquera/.pyenv/versions/3.9.16/lib/python3.9/warnings.py\" target=\"_blank\"><span style=\"color: #7f7f7f; text-decoration-color: #7f7f7f\">warnings.py</span></a><span style=\"color: #7f7f7f; text-decoration-color: #7f7f7f\">:</span><a href=\"file:///Users/liazerquera/.pyenv/versions/3.9.16/lib/python3.9/warnings.py#109\" target=\"_blank\"><span style=\"color: #7f7f7f; text-decoration-color: #7f7f7f\">109</span></a>\n",
       "<span style=\"color: #7fbfbf; text-decoration-color: #7fbfbf\">           </span>         <span style=\"color: #800080; text-decoration-color: #800080\">tasets/</span><span style=\"color: #ff00ff; text-decoration-color: #ff00ff\">functions.py</span>:<span style=\"color: #008080; text-decoration-color: #008080; font-weight: bold\">438</span>: FutureWarning: Starting from Version <span style=\"color: #008080; text-decoration-color: #008080; font-weight: bold\">0.15</span>              <span style=\"color: #7f7f7f; text-decoration-color: #7f7f7f\">               </span>\n",
       "<span style=\"color: #7fbfbf; text-decoration-color: #7fbfbf\">           </span>         `download_data`, `download_qualities`, and `download_features_meta_data` will   <span style=\"color: #7f7f7f; text-decoration-color: #7f7f7f\">               </span>\n",
       "<span style=\"color: #7fbfbf; text-decoration-color: #7fbfbf\">           </span>         all be ``<span style=\"color: #ff0000; text-decoration-color: #ff0000; font-style: italic\">False</span>`` instead of ``<span style=\"color: #00ff00; text-decoration-color: #00ff00; font-style: italic\">True</span>`` by default to enable lazy loading. To      <span style=\"color: #7f7f7f; text-decoration-color: #7f7f7f\">               </span>\n",
       "<span style=\"color: #7fbfbf; text-decoration-color: #7fbfbf\">           </span>         disable this message until version <span style=\"color: #008080; text-decoration-color: #008080; font-weight: bold\">0.15</span> explicitly set `download_data`,         <span style=\"color: #7f7f7f; text-decoration-color: #7f7f7f\">               </span>\n",
       "<span style=\"color: #7fbfbf; text-decoration-color: #7fbfbf\">           </span>         `download_qualities`, and `download_features_meta_data` to a bool while calling <span style=\"color: #7f7f7f; text-decoration-color: #7f7f7f\">               </span>\n",
       "<span style=\"color: #7fbfbf; text-decoration-color: #7fbfbf\">           </span>         `get_dataset`.                                                                  <span style=\"color: #7f7f7f; text-decoration-color: #7f7f7f\">               </span>\n",
       "<span style=\"color: #7fbfbf; text-decoration-color: #7fbfbf\">           </span>           <span style=\"color: #800080; text-decoration-color: #800080; font-weight: bold\">warnings.warn</span><span style=\"font-weight: bold\">(</span>                                                                <span style=\"color: #7f7f7f; text-decoration-color: #7f7f7f\">               </span>\n",
       "<span style=\"color: #7fbfbf; text-decoration-color: #7fbfbf\">           </span>                                                                                         <span style=\"color: #7f7f7f; text-decoration-color: #7f7f7f\">               </span>\n",
       "</pre>\n"
      ],
      "text/plain": [
       "\u001b[2;36m          \u001b[0m\u001b[2;36m \u001b[0m\u001b[31mWARNING \u001b[0m \u001b[35m/Users/liazerquera/.pyenv/versions/3.9.16/lib/python3.9/site-packages/openml/da\u001b[0m \u001b]8;id=934819;file:///Users/liazerquera/.pyenv/versions/3.9.16/lib/python3.9/warnings.py\u001b\\\u001b[2mwarnings.py\u001b[0m\u001b]8;;\u001b\\\u001b[2m:\u001b[0m\u001b]8;id=419484;file:///Users/liazerquera/.pyenv/versions/3.9.16/lib/python3.9/warnings.py#109\u001b\\\u001b[2m109\u001b[0m\u001b]8;;\u001b\\\n",
       "\u001b[2;36m           \u001b[0m         \u001b[35mtasets/\u001b[0m\u001b[95mfunctions.py\u001b[0m:\u001b[1;36m438\u001b[0m: FutureWarning: Starting from Version \u001b[1;36m0.15\u001b[0m              \u001b[2m               \u001b[0m\n",
       "\u001b[2;36m           \u001b[0m         `download_data`, `download_qualities`, and `download_features_meta_data` will   \u001b[2m               \u001b[0m\n",
       "\u001b[2;36m           \u001b[0m         all be ``\u001b[3;91mFalse\u001b[0m`` instead of ``\u001b[3;92mTrue\u001b[0m`` by default to enable lazy loading. To      \u001b[2m               \u001b[0m\n",
       "\u001b[2;36m           \u001b[0m         disable this message until version \u001b[1;36m0.15\u001b[0m explicitly set `download_data`,         \u001b[2m               \u001b[0m\n",
       "\u001b[2;36m           \u001b[0m         `download_qualities`, and `download_features_meta_data` to a bool while calling \u001b[2m               \u001b[0m\n",
       "\u001b[2;36m           \u001b[0m         `get_dataset`.                                                                  \u001b[2m               \u001b[0m\n",
       "\u001b[2;36m           \u001b[0m           \u001b[1;35mwarnings.warn\u001b[0m\u001b[1m(\u001b[0m                                                                \u001b[2m               \u001b[0m\n",
       "\u001b[2;36m           \u001b[0m                                                                                         \u001b[2m               \u001b[0m\n"
      ]
     },
     "metadata": {},
     "output_type": "display_data"
    },
    {
     "data": {
      "text/html": [
       "<pre style=\"white-space:pre;overflow-x:auto;line-height:normal;font-family:Menlo,'DejaVu Sans Mono',consolas,'Courier New',monospace\"><span style=\"color: #7fbfbf; text-decoration-color: #7fbfbf\">           </span><span style=\"color: #800000; text-decoration-color: #800000\">WARNING </span> <span style=\"color: #800080; text-decoration-color: #800080\">/var/folders/cm/y1ylnx7j2xzd3ty4g05zq63w0000gn/T/ipykernel_79572/</span><span style=\"color: #ff00ff; text-decoration-color: #ff00ff\">2430654900.py</span>: <a href=\"file:///Users/liazerquera/.pyenv/versions/3.9.16/lib/python3.9/warnings.py\" target=\"_blank\"><span style=\"color: #7f7f7f; text-decoration-color: #7f7f7f\">warnings.py</span></a><span style=\"color: #7f7f7f; text-decoration-color: #7f7f7f\">:</span><a href=\"file:///Users/liazerquera/.pyenv/versions/3.9.16/lib/python3.9/warnings.py#109\" target=\"_blank\"><span style=\"color: #7f7f7f; text-decoration-color: #7f7f7f\">109</span></a>\n",
       "<span style=\"color: #7fbfbf; text-decoration-color: #7fbfbf\">           </span>         <span style=\"color: #008080; text-decoration-color: #008080; font-weight: bold\">13</span>: FutureWarning: Support for `<span style=\"color: #808000; text-decoration-color: #808000\">dataset_format</span>=<span style=\"color: #008000; text-decoration-color: #008000\">'array'</span>` will be removed in      <span style=\"color: #7f7f7f; text-decoration-color: #7f7f7f\">               </span>\n",
       "<span style=\"color: #7fbfbf; text-decoration-color: #7fbfbf\">           </span>         <span style=\"color: #008080; text-decoration-color: #008080; font-weight: bold\">0.15</span>,start using `<span style=\"color: #808000; text-decoration-color: #808000\">dataset_format</span>=<span style=\"color: #008000; text-decoration-color: #008000\">'dataframe'</span> to ensure your code will continue  <span style=\"color: #7f7f7f; text-decoration-color: #7f7f7f\">               </span>\n",
       "<span style=\"color: #7fbfbf; text-decoration-color: #7fbfbf\">           </span>         to work. You can use the dataframe's `to_numpy` function to continue using      <span style=\"color: #7f7f7f; text-decoration-color: #7f7f7f\">               </span>\n",
       "<span style=\"color: #7fbfbf; text-decoration-color: #7fbfbf\">           </span>         numpy arrays.                                                                   <span style=\"color: #7f7f7f; text-decoration-color: #7f7f7f\">               </span>\n",
       "<span style=\"color: #7fbfbf; text-decoration-color: #7fbfbf\">           </span>           features, targets = <span style=\"color: #800080; text-decoration-color: #800080; font-weight: bold\">task.get_X_and_y</span><span style=\"font-weight: bold\">()</span>  # get the data                        <span style=\"color: #7f7f7f; text-decoration-color: #7f7f7f\">               </span>\n",
       "<span style=\"color: #7fbfbf; text-decoration-color: #7fbfbf\">           </span>                                                                                         <span style=\"color: #7f7f7f; text-decoration-color: #7f7f7f\">               </span>\n",
       "</pre>\n"
      ],
      "text/plain": [
       "\u001b[2;36m          \u001b[0m\u001b[2;36m \u001b[0m\u001b[31mWARNING \u001b[0m \u001b[35m/var/folders/cm/y1ylnx7j2xzd3ty4g05zq63w0000gn/T/ipykernel_79572/\u001b[0m\u001b[95m2430654900.py\u001b[0m: \u001b]8;id=397267;file:///Users/liazerquera/.pyenv/versions/3.9.16/lib/python3.9/warnings.py\u001b\\\u001b[2mwarnings.py\u001b[0m\u001b]8;;\u001b\\\u001b[2m:\u001b[0m\u001b]8;id=72504;file:///Users/liazerquera/.pyenv/versions/3.9.16/lib/python3.9/warnings.py#109\u001b\\\u001b[2m109\u001b[0m\u001b]8;;\u001b\\\n",
       "\u001b[2;36m           \u001b[0m         \u001b[1;36m13\u001b[0m: FutureWarning: Support for `\u001b[33mdataset_format\u001b[0m=\u001b[32m'array'\u001b[0m` will be removed in      \u001b[2m               \u001b[0m\n",
       "\u001b[2;36m           \u001b[0m         \u001b[1;36m0.15\u001b[0m,start using `\u001b[33mdataset_format\u001b[0m=\u001b[32m'dataframe'\u001b[0m to ensure your code will continue  \u001b[2m               \u001b[0m\n",
       "\u001b[2;36m           \u001b[0m         to work. You can use the dataframe's `to_numpy` function to continue using      \u001b[2m               \u001b[0m\n",
       "\u001b[2;36m           \u001b[0m         numpy arrays.                                                                   \u001b[2m               \u001b[0m\n",
       "\u001b[2;36m           \u001b[0m           features, targets = \u001b[1;35mtask.get_X_and_y\u001b[0m\u001b[1m(\u001b[0m\u001b[1m)\u001b[0m  # get the data                        \u001b[2m               \u001b[0m\n",
       "\u001b[2;36m           \u001b[0m                                                                                         \u001b[2m               \u001b[0m\n"
      ]
     },
     "metadata": {},
     "output_type": "display_data"
    },
    {
     "data": {
      "text/html": [
       "<pre style=\"white-space:pre;overflow-x:auto;line-height:normal;font-family:Menlo,'DejaVu Sans Mono',consolas,'Courier New',monospace\"><span style=\"color: #7fbfbf; text-decoration-color: #7fbfbf\">           </span><span style=\"color: #800000; text-decoration-color: #800000\">WARNING </span> <span style=\"color: #800080; text-decoration-color: #800080\">/Users/liazerquera/.pyenv/versions/3.9.16/lib/python3.9/site-packages/openml/ta</span> <a href=\"file:///Users/liazerquera/.pyenv/versions/3.9.16/lib/python3.9/warnings.py\" target=\"_blank\"><span style=\"color: #7f7f7f; text-decoration-color: #7f7f7f\">warnings.py</span></a><span style=\"color: #7f7f7f; text-decoration-color: #7f7f7f\">:</span><a href=\"file:///Users/liazerquera/.pyenv/versions/3.9.16/lib/python3.9/warnings.py#109\" target=\"_blank\"><span style=\"color: #7f7f7f; text-decoration-color: #7f7f7f\">109</span></a>\n",
       "<span style=\"color: #7fbfbf; text-decoration-color: #7fbfbf\">           </span>         <span style=\"color: #800080; text-decoration-color: #800080\">sks/</span><span style=\"color: #ff00ff; text-decoration-color: #ff00ff\">task.py</span>:<span style=\"color: #008080; text-decoration-color: #008080; font-weight: bold\">276</span>: FutureWarning: Support for `<span style=\"color: #808000; text-decoration-color: #808000\">dataset_format</span>=<span style=\"color: #008000; text-decoration-color: #008000\">'array'</span>` will be    <span style=\"color: #7f7f7f; text-decoration-color: #7f7f7f\">               </span>\n",
       "<span style=\"color: #7fbfbf; text-decoration-color: #7fbfbf\">           </span>         removed in <span style=\"color: #008080; text-decoration-color: #008080; font-weight: bold\">0.15</span>,start using `<span style=\"color: #808000; text-decoration-color: #808000\">dataset_format</span>=<span style=\"color: #008000; text-decoration-color: #008000\">'dataframe'</span> to ensure your code     <span style=\"color: #7f7f7f; text-decoration-color: #7f7f7f\">               </span>\n",
       "<span style=\"color: #7fbfbf; text-decoration-color: #7fbfbf\">           </span>         will continue to work. You can use the dataframe's `to_numpy` function to       <span style=\"color: #7f7f7f; text-decoration-color: #7f7f7f\">               </span>\n",
       "<span style=\"color: #7fbfbf; text-decoration-color: #7fbfbf\">           </span>         continue using numpy arrays.                                                    <span style=\"color: #7f7f7f; text-decoration-color: #7f7f7f\">               </span>\n",
       "<span style=\"color: #7fbfbf; text-decoration-color: #7fbfbf\">           </span>           X, y, _, _ = <span style=\"color: #800080; text-decoration-color: #800080; font-weight: bold\">dataset.get_data</span><span style=\"font-weight: bold\">(</span>                                                <span style=\"color: #7f7f7f; text-decoration-color: #7f7f7f\">               </span>\n",
       "<span style=\"color: #7fbfbf; text-decoration-color: #7fbfbf\">           </span>                                                                                         <span style=\"color: #7f7f7f; text-decoration-color: #7f7f7f\">               </span>\n",
       "</pre>\n"
      ],
      "text/plain": [
       "\u001b[2;36m          \u001b[0m\u001b[2;36m \u001b[0m\u001b[31mWARNING \u001b[0m \u001b[35m/Users/liazerquera/.pyenv/versions/3.9.16/lib/python3.9/site-packages/openml/ta\u001b[0m \u001b]8;id=429228;file:///Users/liazerquera/.pyenv/versions/3.9.16/lib/python3.9/warnings.py\u001b\\\u001b[2mwarnings.py\u001b[0m\u001b]8;;\u001b\\\u001b[2m:\u001b[0m\u001b]8;id=753183;file:///Users/liazerquera/.pyenv/versions/3.9.16/lib/python3.9/warnings.py#109\u001b\\\u001b[2m109\u001b[0m\u001b]8;;\u001b\\\n",
       "\u001b[2;36m           \u001b[0m         \u001b[35msks/\u001b[0m\u001b[95mtask.py\u001b[0m:\u001b[1;36m276\u001b[0m: FutureWarning: Support for `\u001b[33mdataset_format\u001b[0m=\u001b[32m'array'\u001b[0m` will be    \u001b[2m               \u001b[0m\n",
       "\u001b[2;36m           \u001b[0m         removed in \u001b[1;36m0.15\u001b[0m,start using `\u001b[33mdataset_format\u001b[0m=\u001b[32m'dataframe'\u001b[0m to ensure your code     \u001b[2m               \u001b[0m\n",
       "\u001b[2;36m           \u001b[0m         will continue to work. You can use the dataframe's `to_numpy` function to       \u001b[2m               \u001b[0m\n",
       "\u001b[2;36m           \u001b[0m         continue using numpy arrays.                                                    \u001b[2m               \u001b[0m\n",
       "\u001b[2;36m           \u001b[0m           X, y, _, _ = \u001b[1;35mdataset.get_data\u001b[0m\u001b[1m(\u001b[0m                                                \u001b[2m               \u001b[0m\n",
       "\u001b[2;36m           \u001b[0m                                                                                         \u001b[2m               \u001b[0m\n"
      ]
     },
     "metadata": {},
     "output_type": "display_data"
    },
    {
     "data": {
      "text/html": [
       "<pre style=\"white-space:pre;overflow-x:auto;line-height:normal;font-family:Menlo,'DejaVu Sans Mono',consolas,'Courier New',monospace\"><span style=\"color: #7fbfbf; text-decoration-color: #7fbfbf\">           </span><span style=\"color: #800000; text-decoration-color: #800000\">WARNING </span> <span style=\"color: #800080; text-decoration-color: #800080\">/Users/liazerquera/.pyenv/versions/3.9.16/lib/python3.9/site-packages/openml/ta</span> <a href=\"file:///Users/liazerquera/.pyenv/versions/3.9.16/lib/python3.9/warnings.py\" target=\"_blank\"><span style=\"color: #7f7f7f; text-decoration-color: #7f7f7f\">warnings.py</span></a><span style=\"color: #7f7f7f; text-decoration-color: #7f7f7f\">:</span><a href=\"file:///Users/liazerquera/.pyenv/versions/3.9.16/lib/python3.9/warnings.py#109\" target=\"_blank\"><span style=\"color: #7f7f7f; text-decoration-color: #7f7f7f\">109</span></a>\n",
       "<span style=\"color: #7fbfbf; text-decoration-color: #7fbfbf\">           </span>         <span style=\"color: #800080; text-decoration-color: #800080\">sks/</span><span style=\"color: #ff00ff; text-decoration-color: #ff00ff\">functions.py</span>:<span style=\"color: #008080; text-decoration-color: #008080; font-weight: bold\">372</span>: FutureWarning: Starting from Version <span style=\"color: #008080; text-decoration-color: #008080; font-weight: bold\">0.15</span>.<span style=\"color: #008080; text-decoration-color: #008080; font-weight: bold\">0</span>               <span style=\"color: #7f7f7f; text-decoration-color: #7f7f7f\">               </span>\n",
       "<span style=\"color: #7fbfbf; text-decoration-color: #7fbfbf\">           </span>         `download_splits` will default to ``<span style=\"color: #ff0000; text-decoration-color: #ff0000; font-style: italic\">False</span>`` instead of ``<span style=\"color: #00ff00; text-decoration-color: #00ff00; font-style: italic\">True</span>`` and be          <span style=\"color: #7f7f7f; text-decoration-color: #7f7f7f\">               </span>\n",
       "<span style=\"color: #7fbfbf; text-decoration-color: #7fbfbf\">           </span>         independent from `download_data`. To disable this message until version <span style=\"color: #008080; text-decoration-color: #008080; font-weight: bold\">0.15</span>    <span style=\"color: #7f7f7f; text-decoration-color: #7f7f7f\">               </span>\n",
       "<span style=\"color: #7fbfbf; text-decoration-color: #7fbfbf\">           </span>         explicitly set `download_splits` to a bool.                                     <span style=\"color: #7f7f7f; text-decoration-color: #7f7f7f\">               </span>\n",
       "<span style=\"color: #7fbfbf; text-decoration-color: #7fbfbf\">           </span>           <span style=\"color: #800080; text-decoration-color: #800080; font-weight: bold\">warnings.warn</span><span style=\"font-weight: bold\">(</span>                                                                <span style=\"color: #7f7f7f; text-decoration-color: #7f7f7f\">               </span>\n",
       "<span style=\"color: #7fbfbf; text-decoration-color: #7fbfbf\">           </span>                                                                                         <span style=\"color: #7f7f7f; text-decoration-color: #7f7f7f\">               </span>\n",
       "</pre>\n"
      ],
      "text/plain": [
       "\u001b[2;36m          \u001b[0m\u001b[2;36m \u001b[0m\u001b[31mWARNING \u001b[0m \u001b[35m/Users/liazerquera/.pyenv/versions/3.9.16/lib/python3.9/site-packages/openml/ta\u001b[0m \u001b]8;id=161234;file:///Users/liazerquera/.pyenv/versions/3.9.16/lib/python3.9/warnings.py\u001b\\\u001b[2mwarnings.py\u001b[0m\u001b]8;;\u001b\\\u001b[2m:\u001b[0m\u001b]8;id=880834;file:///Users/liazerquera/.pyenv/versions/3.9.16/lib/python3.9/warnings.py#109\u001b\\\u001b[2m109\u001b[0m\u001b]8;;\u001b\\\n",
       "\u001b[2;36m           \u001b[0m         \u001b[35msks/\u001b[0m\u001b[95mfunctions.py\u001b[0m:\u001b[1;36m372\u001b[0m: FutureWarning: Starting from Version \u001b[1;36m0.15\u001b[0m.\u001b[1;36m0\u001b[0m               \u001b[2m               \u001b[0m\n",
       "\u001b[2;36m           \u001b[0m         `download_splits` will default to ``\u001b[3;91mFalse\u001b[0m`` instead of ``\u001b[3;92mTrue\u001b[0m`` and be          \u001b[2m               \u001b[0m\n",
       "\u001b[2;36m           \u001b[0m         independent from `download_data`. To disable this message until version \u001b[1;36m0.15\u001b[0m    \u001b[2m               \u001b[0m\n",
       "\u001b[2;36m           \u001b[0m         explicitly set `download_splits` to a bool.                                     \u001b[2m               \u001b[0m\n",
       "\u001b[2;36m           \u001b[0m           \u001b[1;35mwarnings.warn\u001b[0m\u001b[1m(\u001b[0m                                                                \u001b[2m               \u001b[0m\n",
       "\u001b[2;36m           \u001b[0m                                                                                         \u001b[2m               \u001b[0m\n"
      ]
     },
     "metadata": {},
     "output_type": "display_data"
    },
    {
     "data": {
      "text/html": [
       "<pre style=\"white-space:pre;overflow-x:auto;line-height:normal;font-family:Menlo,'DejaVu Sans Mono',consolas,'Courier New',monospace\"><span style=\"color: #7fbfbf; text-decoration-color: #7fbfbf\">           </span><span style=\"color: #800000; text-decoration-color: #800000\">WARNING </span> <span style=\"color: #800080; text-decoration-color: #800080\">/Users/liazerquera/.pyenv/versions/3.9.16/lib/python3.9/site-packages/openml/da</span> <a href=\"file:///Users/liazerquera/.pyenv/versions/3.9.16/lib/python3.9/warnings.py\" target=\"_blank\"><span style=\"color: #7f7f7f; text-decoration-color: #7f7f7f\">warnings.py</span></a><span style=\"color: #7f7f7f; text-decoration-color: #7f7f7f\">:</span><a href=\"file:///Users/liazerquera/.pyenv/versions/3.9.16/lib/python3.9/warnings.py#109\" target=\"_blank\"><span style=\"color: #7f7f7f; text-decoration-color: #7f7f7f\">109</span></a>\n",
       "<span style=\"color: #7fbfbf; text-decoration-color: #7fbfbf\">           </span>         <span style=\"color: #800080; text-decoration-color: #800080\">tasets/</span><span style=\"color: #ff00ff; text-decoration-color: #ff00ff\">functions.py</span>:<span style=\"color: #008080; text-decoration-color: #008080; font-weight: bold\">438</span>: FutureWarning: Starting from Version <span style=\"color: #008080; text-decoration-color: #008080; font-weight: bold\">0.15</span>              <span style=\"color: #7f7f7f; text-decoration-color: #7f7f7f\">               </span>\n",
       "<span style=\"color: #7fbfbf; text-decoration-color: #7fbfbf\">           </span>         `download_data`, `download_qualities`, and `download_features_meta_data` will   <span style=\"color: #7f7f7f; text-decoration-color: #7f7f7f\">               </span>\n",
       "<span style=\"color: #7fbfbf; text-decoration-color: #7fbfbf\">           </span>         all be ``<span style=\"color: #ff0000; text-decoration-color: #ff0000; font-style: italic\">False</span>`` instead of ``<span style=\"color: #00ff00; text-decoration-color: #00ff00; font-style: italic\">True</span>`` by default to enable lazy loading. To      <span style=\"color: #7f7f7f; text-decoration-color: #7f7f7f\">               </span>\n",
       "<span style=\"color: #7fbfbf; text-decoration-color: #7fbfbf\">           </span>         disable this message until version <span style=\"color: #008080; text-decoration-color: #008080; font-weight: bold\">0.15</span> explicitly set `download_data`,         <span style=\"color: #7f7f7f; text-decoration-color: #7f7f7f\">               </span>\n",
       "<span style=\"color: #7fbfbf; text-decoration-color: #7fbfbf\">           </span>         `download_qualities`, and `download_features_meta_data` to a bool while calling <span style=\"color: #7f7f7f; text-decoration-color: #7f7f7f\">               </span>\n",
       "<span style=\"color: #7fbfbf; text-decoration-color: #7fbfbf\">           </span>         `get_dataset`.                                                                  <span style=\"color: #7f7f7f; text-decoration-color: #7f7f7f\">               </span>\n",
       "<span style=\"color: #7fbfbf; text-decoration-color: #7fbfbf\">           </span>           <span style=\"color: #800080; text-decoration-color: #800080; font-weight: bold\">warnings.warn</span><span style=\"font-weight: bold\">(</span>                                                                <span style=\"color: #7f7f7f; text-decoration-color: #7f7f7f\">               </span>\n",
       "<span style=\"color: #7fbfbf; text-decoration-color: #7fbfbf\">           </span>                                                                                         <span style=\"color: #7f7f7f; text-decoration-color: #7f7f7f\">               </span>\n",
       "</pre>\n"
      ],
      "text/plain": [
       "\u001b[2;36m          \u001b[0m\u001b[2;36m \u001b[0m\u001b[31mWARNING \u001b[0m \u001b[35m/Users/liazerquera/.pyenv/versions/3.9.16/lib/python3.9/site-packages/openml/da\u001b[0m \u001b]8;id=773880;file:///Users/liazerquera/.pyenv/versions/3.9.16/lib/python3.9/warnings.py\u001b\\\u001b[2mwarnings.py\u001b[0m\u001b]8;;\u001b\\\u001b[2m:\u001b[0m\u001b]8;id=192642;file:///Users/liazerquera/.pyenv/versions/3.9.16/lib/python3.9/warnings.py#109\u001b\\\u001b[2m109\u001b[0m\u001b]8;;\u001b\\\n",
       "\u001b[2;36m           \u001b[0m         \u001b[35mtasets/\u001b[0m\u001b[95mfunctions.py\u001b[0m:\u001b[1;36m438\u001b[0m: FutureWarning: Starting from Version \u001b[1;36m0.15\u001b[0m              \u001b[2m               \u001b[0m\n",
       "\u001b[2;36m           \u001b[0m         `download_data`, `download_qualities`, and `download_features_meta_data` will   \u001b[2m               \u001b[0m\n",
       "\u001b[2;36m           \u001b[0m         all be ``\u001b[3;91mFalse\u001b[0m`` instead of ``\u001b[3;92mTrue\u001b[0m`` by default to enable lazy loading. To      \u001b[2m               \u001b[0m\n",
       "\u001b[2;36m           \u001b[0m         disable this message until version \u001b[1;36m0.15\u001b[0m explicitly set `download_data`,         \u001b[2m               \u001b[0m\n",
       "\u001b[2;36m           \u001b[0m         `download_qualities`, and `download_features_meta_data` to a bool while calling \u001b[2m               \u001b[0m\n",
       "\u001b[2;36m           \u001b[0m         `get_dataset`.                                                                  \u001b[2m               \u001b[0m\n",
       "\u001b[2;36m           \u001b[0m           \u001b[1;35mwarnings.warn\u001b[0m\u001b[1m(\u001b[0m                                                                \u001b[2m               \u001b[0m\n",
       "\u001b[2;36m           \u001b[0m                                                                                         \u001b[2m               \u001b[0m\n"
      ]
     },
     "metadata": {},
     "output_type": "display_data"
    },
    {
     "data": {
      "text/html": [
       "<pre style=\"white-space:pre;overflow-x:auto;line-height:normal;font-family:Menlo,'DejaVu Sans Mono',consolas,'Courier New',monospace\"><span style=\"color: #7fbfbf; text-decoration-color: #7fbfbf\">           </span><span style=\"color: #800000; text-decoration-color: #800000\">WARNING </span> <span style=\"color: #800080; text-decoration-color: #800080\">/var/folders/cm/y1ylnx7j2xzd3ty4g05zq63w0000gn/T/ipykernel_79572/</span><span style=\"color: #ff00ff; text-decoration-color: #ff00ff\">2430654900.py</span>: <a href=\"file:///Users/liazerquera/.pyenv/versions/3.9.16/lib/python3.9/warnings.py\" target=\"_blank\"><span style=\"color: #7f7f7f; text-decoration-color: #7f7f7f\">warnings.py</span></a><span style=\"color: #7f7f7f; text-decoration-color: #7f7f7f\">:</span><a href=\"file:///Users/liazerquera/.pyenv/versions/3.9.16/lib/python3.9/warnings.py#109\" target=\"_blank\"><span style=\"color: #7f7f7f; text-decoration-color: #7f7f7f\">109</span></a>\n",
       "<span style=\"color: #7fbfbf; text-decoration-color: #7fbfbf\">           </span>         <span style=\"color: #008080; text-decoration-color: #008080; font-weight: bold\">13</span>: FutureWarning: Support for `<span style=\"color: #808000; text-decoration-color: #808000\">dataset_format</span>=<span style=\"color: #008000; text-decoration-color: #008000\">'array'</span>` will be removed in      <span style=\"color: #7f7f7f; text-decoration-color: #7f7f7f\">               </span>\n",
       "<span style=\"color: #7fbfbf; text-decoration-color: #7fbfbf\">           </span>         <span style=\"color: #008080; text-decoration-color: #008080; font-weight: bold\">0.15</span>,start using `<span style=\"color: #808000; text-decoration-color: #808000\">dataset_format</span>=<span style=\"color: #008000; text-decoration-color: #008000\">'dataframe'</span> to ensure your code will continue  <span style=\"color: #7f7f7f; text-decoration-color: #7f7f7f\">               </span>\n",
       "<span style=\"color: #7fbfbf; text-decoration-color: #7fbfbf\">           </span>         to work. You can use the dataframe's `to_numpy` function to continue using      <span style=\"color: #7f7f7f; text-decoration-color: #7f7f7f\">               </span>\n",
       "<span style=\"color: #7fbfbf; text-decoration-color: #7fbfbf\">           </span>         numpy arrays.                                                                   <span style=\"color: #7f7f7f; text-decoration-color: #7f7f7f\">               </span>\n",
       "<span style=\"color: #7fbfbf; text-decoration-color: #7fbfbf\">           </span>           features, targets = <span style=\"color: #800080; text-decoration-color: #800080; font-weight: bold\">task.get_X_and_y</span><span style=\"font-weight: bold\">()</span>  # get the data                        <span style=\"color: #7f7f7f; text-decoration-color: #7f7f7f\">               </span>\n",
       "<span style=\"color: #7fbfbf; text-decoration-color: #7fbfbf\">           </span>                                                                                         <span style=\"color: #7f7f7f; text-decoration-color: #7f7f7f\">               </span>\n",
       "</pre>\n"
      ],
      "text/plain": [
       "\u001b[2;36m          \u001b[0m\u001b[2;36m \u001b[0m\u001b[31mWARNING \u001b[0m \u001b[35m/var/folders/cm/y1ylnx7j2xzd3ty4g05zq63w0000gn/T/ipykernel_79572/\u001b[0m\u001b[95m2430654900.py\u001b[0m: \u001b]8;id=190792;file:///Users/liazerquera/.pyenv/versions/3.9.16/lib/python3.9/warnings.py\u001b\\\u001b[2mwarnings.py\u001b[0m\u001b]8;;\u001b\\\u001b[2m:\u001b[0m\u001b]8;id=254065;file:///Users/liazerquera/.pyenv/versions/3.9.16/lib/python3.9/warnings.py#109\u001b\\\u001b[2m109\u001b[0m\u001b]8;;\u001b\\\n",
       "\u001b[2;36m           \u001b[0m         \u001b[1;36m13\u001b[0m: FutureWarning: Support for `\u001b[33mdataset_format\u001b[0m=\u001b[32m'array'\u001b[0m` will be removed in      \u001b[2m               \u001b[0m\n",
       "\u001b[2;36m           \u001b[0m         \u001b[1;36m0.15\u001b[0m,start using `\u001b[33mdataset_format\u001b[0m=\u001b[32m'dataframe'\u001b[0m to ensure your code will continue  \u001b[2m               \u001b[0m\n",
       "\u001b[2;36m           \u001b[0m         to work. You can use the dataframe's `to_numpy` function to continue using      \u001b[2m               \u001b[0m\n",
       "\u001b[2;36m           \u001b[0m         numpy arrays.                                                                   \u001b[2m               \u001b[0m\n",
       "\u001b[2;36m           \u001b[0m           features, targets = \u001b[1;35mtask.get_X_and_y\u001b[0m\u001b[1m(\u001b[0m\u001b[1m)\u001b[0m  # get the data                        \u001b[2m               \u001b[0m\n",
       "\u001b[2;36m           \u001b[0m                                                                                         \u001b[2m               \u001b[0m\n"
      ]
     },
     "metadata": {},
     "output_type": "display_data"
    },
    {
     "data": {
      "text/html": [
       "<pre style=\"white-space:pre;overflow-x:auto;line-height:normal;font-family:Menlo,'DejaVu Sans Mono',consolas,'Courier New',monospace\"><span style=\"color: #7fbfbf; text-decoration-color: #7fbfbf\">           </span><span style=\"color: #800000; text-decoration-color: #800000\">WARNING </span> <span style=\"color: #800080; text-decoration-color: #800080\">/Users/liazerquera/.pyenv/versions/3.9.16/lib/python3.9/site-packages/openml/ta</span> <a href=\"file:///Users/liazerquera/.pyenv/versions/3.9.16/lib/python3.9/warnings.py\" target=\"_blank\"><span style=\"color: #7f7f7f; text-decoration-color: #7f7f7f\">warnings.py</span></a><span style=\"color: #7f7f7f; text-decoration-color: #7f7f7f\">:</span><a href=\"file:///Users/liazerquera/.pyenv/versions/3.9.16/lib/python3.9/warnings.py#109\" target=\"_blank\"><span style=\"color: #7f7f7f; text-decoration-color: #7f7f7f\">109</span></a>\n",
       "<span style=\"color: #7fbfbf; text-decoration-color: #7fbfbf\">           </span>         <span style=\"color: #800080; text-decoration-color: #800080\">sks/</span><span style=\"color: #ff00ff; text-decoration-color: #ff00ff\">task.py</span>:<span style=\"color: #008080; text-decoration-color: #008080; font-weight: bold\">276</span>: FutureWarning: Support for `<span style=\"color: #808000; text-decoration-color: #808000\">dataset_format</span>=<span style=\"color: #008000; text-decoration-color: #008000\">'array'</span>` will be    <span style=\"color: #7f7f7f; text-decoration-color: #7f7f7f\">               </span>\n",
       "<span style=\"color: #7fbfbf; text-decoration-color: #7fbfbf\">           </span>         removed in <span style=\"color: #008080; text-decoration-color: #008080; font-weight: bold\">0.15</span>,start using `<span style=\"color: #808000; text-decoration-color: #808000\">dataset_format</span>=<span style=\"color: #008000; text-decoration-color: #008000\">'dataframe'</span> to ensure your code     <span style=\"color: #7f7f7f; text-decoration-color: #7f7f7f\">               </span>\n",
       "<span style=\"color: #7fbfbf; text-decoration-color: #7fbfbf\">           </span>         will continue to work. You can use the dataframe's `to_numpy` function to       <span style=\"color: #7f7f7f; text-decoration-color: #7f7f7f\">               </span>\n",
       "<span style=\"color: #7fbfbf; text-decoration-color: #7fbfbf\">           </span>         continue using numpy arrays.                                                    <span style=\"color: #7f7f7f; text-decoration-color: #7f7f7f\">               </span>\n",
       "<span style=\"color: #7fbfbf; text-decoration-color: #7fbfbf\">           </span>           X, y, _, _ = <span style=\"color: #800080; text-decoration-color: #800080; font-weight: bold\">dataset.get_data</span><span style=\"font-weight: bold\">(</span>                                                <span style=\"color: #7f7f7f; text-decoration-color: #7f7f7f\">               </span>\n",
       "<span style=\"color: #7fbfbf; text-decoration-color: #7fbfbf\">           </span>                                                                                         <span style=\"color: #7f7f7f; text-decoration-color: #7f7f7f\">               </span>\n",
       "</pre>\n"
      ],
      "text/plain": [
       "\u001b[2;36m          \u001b[0m\u001b[2;36m \u001b[0m\u001b[31mWARNING \u001b[0m \u001b[35m/Users/liazerquera/.pyenv/versions/3.9.16/lib/python3.9/site-packages/openml/ta\u001b[0m \u001b]8;id=993887;file:///Users/liazerquera/.pyenv/versions/3.9.16/lib/python3.9/warnings.py\u001b\\\u001b[2mwarnings.py\u001b[0m\u001b]8;;\u001b\\\u001b[2m:\u001b[0m\u001b]8;id=592981;file:///Users/liazerquera/.pyenv/versions/3.9.16/lib/python3.9/warnings.py#109\u001b\\\u001b[2m109\u001b[0m\u001b]8;;\u001b\\\n",
       "\u001b[2;36m           \u001b[0m         \u001b[35msks/\u001b[0m\u001b[95mtask.py\u001b[0m:\u001b[1;36m276\u001b[0m: FutureWarning: Support for `\u001b[33mdataset_format\u001b[0m=\u001b[32m'array'\u001b[0m` will be    \u001b[2m               \u001b[0m\n",
       "\u001b[2;36m           \u001b[0m         removed in \u001b[1;36m0.15\u001b[0m,start using `\u001b[33mdataset_format\u001b[0m=\u001b[32m'dataframe'\u001b[0m to ensure your code     \u001b[2m               \u001b[0m\n",
       "\u001b[2;36m           \u001b[0m         will continue to work. You can use the dataframe's `to_numpy` function to       \u001b[2m               \u001b[0m\n",
       "\u001b[2;36m           \u001b[0m         continue using numpy arrays.                                                    \u001b[2m               \u001b[0m\n",
       "\u001b[2;36m           \u001b[0m           X, y, _, _ = \u001b[1;35mdataset.get_data\u001b[0m\u001b[1m(\u001b[0m                                                \u001b[2m               \u001b[0m\n",
       "\u001b[2;36m           \u001b[0m                                                                                         \u001b[2m               \u001b[0m\n"
      ]
     },
     "metadata": {},
     "output_type": "display_data"
    }
   ],
   "source": [
    "import openml\n",
    "benchmark_suite = openml.study.get_suite(293) # obtain the benchmark suite\n",
    "i = 1\n",
    "a = []\n",
    "tasks = []\n",
    "for task_id in benchmark_suite.tasks:  # iterate over all tasks\n",
    "    task = openml.tasks.get_task(task_id)  # download the OpenML task\n",
    "    tasks.append(task)\n",
    "    features, targets = task.get_X_and_y()  # get the data\n",
    "    a.append((features, targets))\n",
    "    i+=1\n",
    "\n",
    "    if i == 5:\n",
    "        break\n",
    "\n",
    "\n"
   ]
  },
  {
   "cell_type": "code",
   "execution_count": 26,
   "metadata": {},
   "outputs": [
    {
     "data": {
      "text/plain": [
       "array([[nan,  0.,  1., ..., nan,  0., nan],\n",
       "       [nan,  0.,  0., ..., nan,  0., nan],\n",
       "       [nan,  0.,  0., ..., nan,  0., nan],\n",
       "       ...,\n",
       "       [nan,  0.,  7., ..., nan,  0., nan],\n",
       "       [nan,  0.,  1., ..., nan,  0., nan],\n",
       "       [nan,  0.,  1., ..., nan,  1., nan]], dtype=float32)"
      ]
     },
     "execution_count": 26,
     "metadata": {},
     "output_type": "execute_result"
    }
   ],
   "source": [
    "\n",
    "M = a[0][0]\n",
    "M"
   ]
  },
  {
   "cell_type": "code",
   "execution_count": 31,
   "metadata": {},
   "outputs": [
    {
     "ename": "ValueError",
     "evalue": "cannot convert float NaN to integer",
     "output_type": "error",
     "traceback": [
      "\u001b[0;31m---------------------------------------------------------------------------\u001b[0m",
      "\u001b[0;31mValueError\u001b[0m                                Traceback (most recent call last)",
      "\u001b[1;32m/Users/liazerquera/Desktop/Lia-tesis/autogoal/testear.ipynb Cell 3\u001b[0m line \u001b[0;36m1\n\u001b[1;32m      <a href='vscode-notebook-cell:/Users/liazerquera/Desktop/Lia-tesis/autogoal/testear.ipynb#W2sZmlsZQ%3D%3D?line=3'>4</a>\u001b[0m \u001b[39mfor\u001b[39;00m row, line \u001b[39min\u001b[39;00m \u001b[39menumerate\u001b[39m(M):\n\u001b[1;32m      <a href='vscode-notebook-cell:/Users/liazerquera/Desktop/Lia-tesis/autogoal/testear.ipynb#W2sZmlsZQ%3D%3D?line=5'>6</a>\u001b[0m     \u001b[39mfor\u001b[39;00m col \u001b[39min\u001b[39;00m line:\n\u001b[1;32m      <a href='vscode-notebook-cell:/Users/liazerquera/Desktop/Lia-tesis/autogoal/testear.ipynb#W2sZmlsZQ%3D%3D?line=6'>7</a>\u001b[0m         \u001b[39m# if M[row,col] == np.nan:\u001b[39;00m\n\u001b[1;32m      <a href='vscode-notebook-cell:/Users/liazerquera/Desktop/Lia-tesis/autogoal/testear.ipynb#W2sZmlsZQ%3D%3D?line=7'>8</a>\u001b[0m         \u001b[39m#     Xtrain[int(row), int(col) - 1] = np.min\u001b[39;00m\n\u001b[1;32m      <a href='vscode-notebook-cell:/Users/liazerquera/Desktop/Lia-tesis/autogoal/testear.ipynb#W2sZmlsZQ%3D%3D?line=8'>9</a>\u001b[0m         \u001b[39m# else :\u001b[39;00m\n\u001b[0;32m---> <a href='vscode-notebook-cell:/Users/liazerquera/Desktop/Lia-tesis/autogoal/testear.ipynb#W2sZmlsZQ%3D%3D?line=9'>10</a>\u001b[0m         Xtrain[\u001b[39mint\u001b[39m(row), \u001b[39mint\u001b[39m(col) \u001b[39m-\u001b[39m \u001b[39m1\u001b[39m] \u001b[39m=\u001b[39m M[row, \u001b[39mint\u001b[39;49m(col)]\n",
      "\u001b[0;31mValueError\u001b[0m: cannot convert float NaN to integer"
     ]
    }
   ],
   "source": []
  },
  {
   "cell_type": "code",
   "execution_count": 6,
   "metadata": {},
   "outputs": [
    {
     "data": {
      "text/plain": [
       "898"
      ]
     },
     "execution_count": 6,
     "metadata": {},
     "output_type": "execute_result"
    }
   ],
   "source": [
    "len(a[0][1])"
   ]
  },
  {
   "cell_type": "code",
   "execution_count": 14,
   "metadata": {},
   "outputs": [
    {
     "name": "stdout",
     "output_type": "stream",
     "text": [
      "Error importing autogoal-regex 0.2.0. Use pip install autogoal-regex to ensure all dependencies are installed correctly.\n",
      "Error importing autogoal-keras 0.2.0. Use pip install autogoal-keras to ensure all dependencies are installed correctly.\n"
     ]
    },
    {
     "ename": "ValueError",
     "evalue": "not enough values to unpack (expected 3, got 1)",
     "output_type": "error",
     "traceback": [
      "\u001b[0;31m---------------------------------------------------------------------------\u001b[0m",
      "\u001b[0;31mValueError\u001b[0m                                Traceback (most recent call last)",
      "\u001b[1;32m/Users/liazerquera/Desktop/Lia-tesis/autogoal/testear.ipynb Cell 3\u001b[0m line \u001b[0;36m3\n\u001b[1;32m     <a href='vscode-notebook-cell:/Users/liazerquera/Desktop/Lia-tesis/autogoal/testear.ipynb#X13sZmlsZQ%3D%3D?line=16'>17</a>\u001b[0m \u001b[39mfrom\u001b[39;00m \u001b[39mautogoal\u001b[39;00m\u001b[39m.\u001b[39;00m\u001b[39mmetalearning\u001b[39;00m\u001b[39m.\u001b[39;00m\u001b[39mimage_metafeatures\u001b[39;00m \u001b[39mimport\u001b[39;00m ImageMetafeatureExtractor\n\u001b[1;32m     <a href='vscode-notebook-cell:/Users/liazerquera/Desktop/Lia-tesis/autogoal/testear.ipynb#X13sZmlsZQ%3D%3D?line=19'>20</a>\u001b[0m classifier \u001b[39m=\u001b[39m AutoML(\n\u001b[1;32m     <a href='vscode-notebook-cell:/Users/liazerquera/Desktop/Lia-tesis/autogoal/testear.ipynb#X13sZmlsZQ%3D%3D?line=20'>21</a>\u001b[0m     dataset_type\u001b[39m=\u001b[39m ImageMetafeatureExtractor(),\n\u001b[1;32m     <a href='vscode-notebook-cell:/Users/liazerquera/Desktop/Lia-tesis/autogoal/testear.ipynb#X13sZmlsZQ%3D%3D?line=21'>22</a>\u001b[0m     search_algorithm\u001b[39m=\u001b[39m PESearch,\n\u001b[0;32m   (...)\u001b[0m\n\u001b[1;32m     <a href='vscode-notebook-cell:/Users/liazerquera/Desktop/Lia-tesis/autogoal/testear.ipynb#X13sZmlsZQ%3D%3D?line=31'>32</a>\u001b[0m     search_timeout\u001b[39m=\u001b[39m\u001b[39m1\u001b[39m \u001b[39m*\u001b[39m Hour,\n\u001b[1;32m     <a href='vscode-notebook-cell:/Users/liazerquera/Desktop/Lia-tesis/autogoal/testear.ipynb#X13sZmlsZQ%3D%3D?line=32'>33</a>\u001b[0m )\n\u001b[0;32m---> <a href='vscode-notebook-cell:/Users/liazerquera/Desktop/Lia-tesis/autogoal/testear.ipynb#X13sZmlsZQ%3D%3D?line=34'>35</a>\u001b[0m classifier\u001b[39m.\u001b[39;49mfit(a[\u001b[39m0\u001b[39;49m][\u001b[39m0\u001b[39;49m], a[\u001b[39m0\u001b[39;49m][\u001b[39m1\u001b[39;49m], logger\u001b[39m=\u001b[39;49mRichLogger())   \n",
      "File \u001b[0;32m~/Desktop/Lia-tesis/autogoal/autogoal/autogoal/ml/_automl.py:141\u001b[0m, in \u001b[0;36mAutoML.fit\u001b[0;34m(self, X, y, **kwargs)\u001b[0m\n\u001b[1;32m    140\u001b[0m \u001b[39mdef\u001b[39;00m \u001b[39mfit\u001b[39m(\u001b[39mself\u001b[39m, X, y\u001b[39m=\u001b[39m\u001b[39mNone\u001b[39;00m, \u001b[39m*\u001b[39m\u001b[39m*\u001b[39mkwargs):\n\u001b[0;32m--> 141\u001b[0m     \u001b[39mself\u001b[39;49m\u001b[39m.\u001b[39;49mbuild_metafeature_model(X,y)\n\u001b[1;32m    142\u001b[0m     \u001b[39mself\u001b[39m\u001b[39m.\u001b[39minput \u001b[39m=\u001b[39m \u001b[39mself\u001b[39m\u001b[39m.\u001b[39m_input_type(X)\n\u001b[1;32m    144\u001b[0m     \u001b[39mif\u001b[39;00m \u001b[39mnot\u001b[39;00m y \u001b[39mis\u001b[39;00m \u001b[39mNone\u001b[39;00m:\n",
      "File \u001b[0;32m~/Desktop/Lia-tesis/autogoal/autogoal/autogoal/ml/_automl.py:128\u001b[0m, in \u001b[0;36mAutoML.build_metafeature_model\u001b[0;34m(self, X, y)\u001b[0m\n\u001b[1;32m    127\u001b[0m \u001b[39mdef\u001b[39;00m \u001b[39mbuild_metafeature_model\u001b[39m(\u001b[39mself\u001b[39m,X,y):\n\u001b[0;32m--> 128\u001b[0m     features \u001b[39m=\u001b[39m \u001b[39mself\u001b[39;49m\u001b[39m.\u001b[39;49mdataset_type\u001b[39m.\u001b[39;49mextract_features(X, y)\n\u001b[1;32m    129\u001b[0m     \u001b[39m# print(features,' a ver mi alma')\u001b[39;00m\n\u001b[1;32m    130\u001b[0m     db \u001b[39m=\u001b[39m SyncEngine(database\u001b[39m=\u001b[39m \u001b[39m'\u001b[39m\u001b[39mMetalearning\u001b[39m\u001b[39m'\u001b[39m)\n",
      "File \u001b[0;32m~/Desktop/Lia-tesis/autogoal/autogoal/autogoal/metalearning/image_metafeatures.py:16\u001b[0m, in \u001b[0;36mImageMetafeatureExtractor.extract_features\u001b[0;34m(self, X, y)\u001b[0m\n\u001b[1;32m     14\u001b[0m \u001b[39mself\u001b[39m\u001b[39m.\u001b[39mfeatures\u001b[39m.\u001b[39mappend(X\u001b[39m.\u001b[39mshape[\u001b[39m0\u001b[39m])\n\u001b[1;32m     15\u001b[0m \u001b[39mself\u001b[39m\u001b[39m.\u001b[39m__output_cardinality__(y)\n\u001b[0;32m---> 16\u001b[0m \u001b[39mself\u001b[39;49m\u001b[39m.\u001b[39;49m__average_size__(X)\n\u001b[1;32m     17\u001b[0m \u001b[39mself\u001b[39m\u001b[39m.\u001b[39m__type_image__(X)\n\u001b[1;32m     18\u001b[0m \u001b[39mself\u001b[39m\u001b[39m.\u001b[39m__rgb_value__(X)\n",
      "File \u001b[0;32m~/Desktop/Lia-tesis/autogoal/autogoal/autogoal/metalearning/image_metafeatures.py:111\u001b[0m, in \u001b[0;36mImageMetafeatureExtractor.__average_size__\u001b[0;34m(self, X)\u001b[0m\n\u001b[1;32m    109\u001b[0m height_width \u001b[39m=\u001b[39m[]\n\u001b[1;32m    110\u001b[0m \u001b[39mfor\u001b[39;00m x \u001b[39min\u001b[39;00m X:\n\u001b[0;32m--> 111\u001b[0m     height, width, _ \u001b[39m=\u001b[39m x\u001b[39m.\u001b[39mshape\n\u001b[1;32m    112\u001b[0m     height_width\u001b[39m.\u001b[39mappend(height\u001b[39m/\u001b[39mwidth)\n\u001b[1;32m    113\u001b[0m     total_height \u001b[39m+\u001b[39m\u001b[39m=\u001b[39m height\n",
      "\u001b[0;31mValueError\u001b[0m: not enough values to unpack (expected 3, got 1)"
     ]
    }
   ],
   "source": [
    "from autogoal.utils import Hour, Min\n",
    "from autogoal.ml import AutoML\n",
    "from autogoal.search import (\n",
    "    RichLogger,\n",
    "    PESearch,\n",
    ")\n",
    "from autogoal.datasets import dorothea\n",
    "from autogoal.ml import AutoML\n",
    "from autogoal.utils import Min, Gb, Hour, Sec\n",
    "from autogoal.search import ConsoleLogger, RichLogger\n",
    "from autogoal.kb import *\n",
    "from autogoal.metalearning.tabular_metafeatures import TabularMetafeatureExtractor\n",
    "from autogoal.search._base import ConsoleLogger\n",
    "from autogoal.kb import *\n",
    "\n",
    "from autogoal_contrib import find_classes\n",
    "from autogoal.metalearning.image_metafeatures import ImageMetafeatureExtractor\n",
    "\n",
    "\n",
    "classifier = AutoML(\n",
    "    dataset_type= ImageMetafeatureExtractor(),\n",
    "    search_algorithm= PESearch,\n",
    "    input=(MatrixContinuousSparse, Supervised[VectorCategorical]),\n",
    "    output=VectorCategorical,\n",
    "    cross_validation_steps=1,\n",
    "    # Since we only want to try neural networks, we restrict\n",
    "    # the contrib registry to algorithms matching with `Keras`.\n",
    "    registry=find_classes(\"Keras\"),\n",
    "    errors=\"raise\",\n",
    "    # Since image classifiers are heavy to train, let's give them a longer timeout...\n",
    "    evaluation_timeout=5 * Min,\n",
    "    search_timeout=1 * Hour,\n",
    ")\n",
    "\n",
    "classifier.fit(a[0][0], a[0][1], logger=RichLogger())   "
   ]
  },
  {
   "cell_type": "code",
   "execution_count": 58,
   "metadata": {},
   "outputs": [],
   "source": [
    "def build_path():\n",
    "    data_file_path = ''\n",
    "    data_name_path = ''\n",
    "    for i  in range(len(dataset.data_file) -1,0,-1):\n",
    "        if dataset.data_file[i] == '/':\n",
    "            data_file_path = dataset.data_file[:i+1]\n",
    "            break\n",
    "\n",
    "    count = 0\n",
    "    for i in range(len(dataset.name)):\n",
    "        if count == 2:\n",
    "          data_name_path = dataset.name[i:]\n",
    "          break\n",
    "        if dataset.name[i] == '_':\n",
    "            count += 1\n",
    "\n",
    "    return data_file_path + data_name_path + '/images/'"
   ]
  },
  {
   "cell_type": "code",
   "execution_count": 59,
   "metadata": {},
   "outputs": [],
   "source": [
    "x, y , _, _ = dataset.get_data(target=dataset.default_target_attribute)\n",
    "\n"
   ]
  },
  {
   "cell_type": "code",
   "execution_count": 60,
   "metadata": {},
   "outputs": [],
   "source": [
    "ids = {}\n",
    "count = 0\n",
    "vectorized_y = []\n",
    "for i in range(y.shape[0]):\n",
    "    if y[i] not in ids:\n",
    "        ids[y[i]] = count\n",
    "        count += 1\n",
    "    vectorized_y.append(ids[y[i]])\n",
    "\n"
   ]
  },
  {
   "cell_type": "code",
   "execution_count": 61,
   "metadata": {},
   "outputs": [
    {
     "data": {
      "text/plain": [
       "'/Users/liazerquera/.openml/org/openml/www/datasets/44285/dataset.arff'"
      ]
     },
     "execution_count": 61,
     "metadata": {},
     "output_type": "execute_result"
    }
   ],
   "source": [
    "import os \n",
    "dataset.data_file"
   ]
  },
  {
   "cell_type": "code",
   "execution_count": 62,
   "metadata": {},
   "outputs": [],
   "source": [
    "dataset_id = 44285\n",
    "dataset_name = 'BRD_Mini'\n",
    "ruta = build_path()"
   ]
  },
  {
   "cell_type": "code",
   "execution_count": 63,
   "metadata": {},
   "outputs": [
    {
     "data": {
      "text/plain": [
       "(12600, 128, 128, 3)"
      ]
     },
     "execution_count": 63,
     "metadata": {},
     "output_type": "execute_result"
    }
   ],
   "source": [
    "import numpy as np\n",
    "from PIL import Image\n",
    "from numpy import asarray\n",
    "\n",
    "X = []\n",
    "for i in os.listdir(ruta):\n",
    "    temp_path =os.path.join(ruta, i)\n",
    "    X.append(asarray(Image.open(temp_path)))\n",
    "X = np.array(X)\n",
    "\n"
   ]
  },
  {
   "cell_type": "code",
   "execution_count": 37,
   "metadata": {},
   "outputs": [
    {
     "name": "stdout",
     "output_type": "stream",
     "text": [
      "Error importing autogoal-regex 0.2.0. Use pip install autogoal-regex to ensure all dependencies are installed correctly.\n",
      "Error importing autogoal-keras 0.2.0. Use pip install autogoal-keras to ensure all dependencies are installed correctly.\n"
     ]
    },
    {
     "ename": "TypeError",
     "evalue": "No pipelines can be found!",
     "output_type": "error",
     "traceback": [
      "\u001b[0;31m---------------------------------------------------------------------------\u001b[0m",
      "\u001b[0;31mKeyError\u001b[0m                                  Traceback (most recent call last)",
      "File \u001b[0;32m~/Desktop/Lia-tesis/autogoal/autogoal/autogoal/kb/_algorithm.py:684\u001b[0m, in \u001b[0;36mbuild_pipeline_graph\u001b[0;34m(input_types, output_type, registry, max_list_depth)\u001b[0m\n\u001b[1;32m    683\u001b[0m \u001b[39mtry\u001b[39;00m:\n\u001b[0;32m--> 684\u001b[0m     reachable_from_end \u001b[39m=\u001b[39m \u001b[39mset\u001b[39;49m(\n\u001b[1;32m    685\u001b[0m         nx\u001b[39m.\u001b[39;49mdfs_preorder_nodes(G\u001b[39m.\u001b[39;49mreverse(\u001b[39mFalse\u001b[39;49;00m), GraphSpace\u001b[39m.\u001b[39;49mEnd)\n\u001b[1;32m    686\u001b[0m     )\n\u001b[1;32m    687\u001b[0m     unreachable_nodes \u001b[39m=\u001b[39m \u001b[39mset\u001b[39m(G\u001b[39m.\u001b[39mnodes) \u001b[39m-\u001b[39m reachable_from_end\n",
      "File \u001b[0;32m~/.pyenv/versions/3.9.16/lib/python3.9/site-packages/networkx/algorithms/traversal/depth_first_search.py:345\u001b[0m, in \u001b[0;36m<genexpr>\u001b[0;34m(.0)\u001b[0m\n\u001b[1;32m    344\u001b[0m edges \u001b[39m=\u001b[39m nx\u001b[39m.\u001b[39mdfs_labeled_edges(G, source\u001b[39m=\u001b[39msource, depth_limit\u001b[39m=\u001b[39mdepth_limit)\n\u001b[0;32m--> 345\u001b[0m \u001b[39mreturn\u001b[39;00m (v \u001b[39mfor\u001b[39;00m u, v, d \u001b[39min\u001b[39;00m edges \u001b[39mif\u001b[39;00m d \u001b[39m==\u001b[39m \u001b[39m\"\u001b[39m\u001b[39mforward\u001b[39m\u001b[39m\"\u001b[39m)\n",
      "File \u001b[0;32m~/.pyenv/versions/3.9.16/lib/python3.9/site-packages/networkx/algorithms/traversal/depth_first_search.py:427\u001b[0m, in \u001b[0;36mdfs_labeled_edges\u001b[0;34m(G, source, depth_limit)\u001b[0m\n\u001b[1;32m    426\u001b[0m visited\u001b[39m.\u001b[39madd(start)\n\u001b[0;32m--> 427\u001b[0m stack \u001b[39m=\u001b[39m [(start, depth_limit, \u001b[39miter\u001b[39m(G[start]))]\n\u001b[1;32m    428\u001b[0m \u001b[39mwhile\u001b[39;00m stack:\n",
      "File \u001b[0;32m~/.pyenv/versions/3.9.16/lib/python3.9/site-packages/networkx/classes/graph.py:517\u001b[0m, in \u001b[0;36mGraph.__getitem__\u001b[0;34m(self, n)\u001b[0m\n\u001b[1;32m    494\u001b[0m \u001b[39m\u001b[39m\u001b[39m\"\"\"Returns a dict of neighbors of node n.  Use: 'G[n]'.\u001b[39;00m\n\u001b[1;32m    495\u001b[0m \n\u001b[1;32m    496\u001b[0m \u001b[39mParameters\u001b[39;00m\n\u001b[0;32m   (...)\u001b[0m\n\u001b[1;32m    515\u001b[0m \u001b[39mAtlasView({1: {}})\u001b[39;00m\n\u001b[1;32m    516\u001b[0m \u001b[39m\"\"\"\u001b[39;00m\n\u001b[0;32m--> 517\u001b[0m \u001b[39mreturn\u001b[39;00m \u001b[39mself\u001b[39;49m\u001b[39m.\u001b[39;49madj[n]\n",
      "File \u001b[0;32m~/.pyenv/versions/3.9.16/lib/python3.9/site-packages/networkx/classes/coreviews.py:82\u001b[0m, in \u001b[0;36mAdjacencyView.__getitem__\u001b[0;34m(self, name)\u001b[0m\n\u001b[1;32m     81\u001b[0m \u001b[39mdef\u001b[39;00m \u001b[39m__getitem__\u001b[39m(\u001b[39mself\u001b[39m, name):\n\u001b[0;32m---> 82\u001b[0m     \u001b[39mreturn\u001b[39;00m AtlasView(\u001b[39mself\u001b[39;49m\u001b[39m.\u001b[39;49m_atlas[name])\n",
      "\u001b[0;31mKeyError\u001b[0m: End()",
      "\nDuring handling of the above exception, another exception occurred:\n",
      "\u001b[0;31mTypeError\u001b[0m                                 Traceback (most recent call last)",
      "\u001b[1;32m/Users/liazerquera/Desktop/Lia-tesis/autogoal/testear.ipynb Cell 7\u001b[0m line \u001b[0;36m2\n\u001b[1;32m     <a href='vscode-notebook-cell:/Users/liazerquera/Desktop/Lia-tesis/autogoal/testear.ipynb#X10sZmlsZQ%3D%3D?line=13'>14</a>\u001b[0m classifier \u001b[39m=\u001b[39m AutoML(\n\u001b[1;32m     <a href='vscode-notebook-cell:/Users/liazerquera/Desktop/Lia-tesis/autogoal/testear.ipynb#X10sZmlsZQ%3D%3D?line=14'>15</a>\u001b[0m     dataset_type\u001b[39m=\u001b[39m ImageMetafeatureExtractor(),\n\u001b[1;32m     <a href='vscode-notebook-cell:/Users/liazerquera/Desktop/Lia-tesis/autogoal/testear.ipynb#X10sZmlsZQ%3D%3D?line=15'>16</a>\u001b[0m     search_algorithm\u001b[39m=\u001b[39m PESearch,\n\u001b[0;32m   (...)\u001b[0m\n\u001b[1;32m     <a href='vscode-notebook-cell:/Users/liazerquera/Desktop/Lia-tesis/autogoal/testear.ipynb#X10sZmlsZQ%3D%3D?line=25'>26</a>\u001b[0m     search_timeout\u001b[39m=\u001b[39m\u001b[39m1\u001b[39m \u001b[39m*\u001b[39m Hour,\n\u001b[1;32m     <a href='vscode-notebook-cell:/Users/liazerquera/Desktop/Lia-tesis/autogoal/testear.ipynb#X10sZmlsZQ%3D%3D?line=26'>27</a>\u001b[0m )\n\u001b[1;32m     <a href='vscode-notebook-cell:/Users/liazerquera/Desktop/Lia-tesis/autogoal/testear.ipynb#X10sZmlsZQ%3D%3D?line=27'>28</a>\u001b[0m y \u001b[39m=\u001b[39m np\u001b[39m.\u001b[39marray(vectorized_y)\n\u001b[0;32m---> <a href='vscode-notebook-cell:/Users/liazerquera/Desktop/Lia-tesis/autogoal/testear.ipynb#X10sZmlsZQ%3D%3D?line=28'>29</a>\u001b[0m classifier\u001b[39m.\u001b[39;49mfit(X, y, logger\u001b[39m=\u001b[39;49mRichLogger())   \n",
      "File \u001b[0;32m~/Desktop/Lia-tesis/autogoal/autogoal/autogoal/ml/_automl.py:148\u001b[0m, in \u001b[0;36mAutoML.fit\u001b[0;34m(self, X, y, **kwargs)\u001b[0m\n\u001b[1;32m    144\u001b[0m \u001b[39mif\u001b[39;00m \u001b[39mnot\u001b[39;00m y \u001b[39mis\u001b[39;00m \u001b[39mNone\u001b[39;00m:\n\u001b[1;32m    145\u001b[0m     \u001b[39mself\u001b[39m\u001b[39m.\u001b[39moutput \u001b[39m=\u001b[39m \u001b[39mself\u001b[39m\u001b[39m.\u001b[39m_output_type(y)\n\u001b[1;32m    147\u001b[0m search \u001b[39m=\u001b[39m \u001b[39mself\u001b[39m\u001b[39m.\u001b[39msearch_algorithm(\n\u001b[0;32m--> 148\u001b[0m     \u001b[39mself\u001b[39;49m\u001b[39m.\u001b[39;49mmake_pipeline_builder(),\n\u001b[1;32m    149\u001b[0m     \u001b[39mself\u001b[39m\u001b[39m.\u001b[39mmake_fitness_fn(X, y),\n\u001b[1;32m    150\u001b[0m     random_state\u001b[39m=\u001b[39m\u001b[39mself\u001b[39m\u001b[39m.\u001b[39mrandom_state,\n\u001b[1;32m    151\u001b[0m     errors\u001b[39m=\u001b[39m\u001b[39mself\u001b[39m\u001b[39m.\u001b[39merrors,\n\u001b[1;32m    152\u001b[0m     \u001b[39m*\u001b[39m\u001b[39m*\u001b[39m\u001b[39mself\u001b[39m\u001b[39m.\u001b[39msearch_kwargs,\n\u001b[1;32m    153\u001b[0m )\n\u001b[1;32m    155\u001b[0m \u001b[39mself\u001b[39m\u001b[39m.\u001b[39mbest_pipelines_, \u001b[39mself\u001b[39m\u001b[39m.\u001b[39mbest_scores_ \u001b[39m=\u001b[39m search\u001b[39m.\u001b[39mrun(\n\u001b[1;32m    156\u001b[0m     \u001b[39mself\u001b[39m\u001b[39m.\u001b[39msearch_iterations,metafeature_instance\u001b[39m=\u001b[39m\u001b[39mself\u001b[39m\u001b[39m.\u001b[39mcurrent_example\n\u001b[1;32m    157\u001b[0m     , \u001b[39m*\u001b[39m\u001b[39m*\u001b[39mkwargs\n\u001b[1;32m    158\u001b[0m )\n\u001b[1;32m    160\u001b[0m \u001b[39mself\u001b[39m\u001b[39m.\u001b[39mfit_pipeline(X, y)\n",
      "File \u001b[0;32m~/Desktop/Lia-tesis/autogoal/autogoal/autogoal/ml/_automl.py:121\u001b[0m, in \u001b[0;36mAutoML.make_pipeline_builder\u001b[0;34m(self)\u001b[0m\n\u001b[1;32m    113\u001b[0m         remote_registry \u001b[39m=\u001b[39m find_remote_classes(\n\u001b[1;32m    114\u001b[0m             sources\u001b[39m=\u001b[39m\u001b[39mself\u001b[39m\u001b[39m.\u001b[39mremote_sources,\n\u001b[1;32m    115\u001b[0m             include\u001b[39m=\u001b[39m\u001b[39mself\u001b[39m\u001b[39m.\u001b[39minclude_filter,\n\u001b[1;32m    116\u001b[0m             exclude\u001b[39m=\u001b[39m\u001b[39mself\u001b[39m\u001b[39m.\u001b[39mexclude_filter,\n\u001b[1;32m    117\u001b[0m         )\n\u001b[1;32m    119\u001b[0m         registry \u001b[39m+\u001b[39m\u001b[39m=\u001b[39m remote_registry\n\u001b[0;32m--> 121\u001b[0m \u001b[39mreturn\u001b[39;00m build_pipeline_graph(\n\u001b[1;32m    122\u001b[0m     input_types\u001b[39m=\u001b[39;49m\u001b[39mself\u001b[39;49m\u001b[39m.\u001b[39;49minput,\n\u001b[1;32m    123\u001b[0m     output_type\u001b[39m=\u001b[39;49m\u001b[39mself\u001b[39;49m\u001b[39m.\u001b[39;49moutput,\n\u001b[1;32m    124\u001b[0m     registry\u001b[39m=\u001b[39;49mregistry,\n\u001b[1;32m    125\u001b[0m )\n",
      "File \u001b[0;32m~/Desktop/Lia-tesis/autogoal/autogoal/autogoal/kb/_algorithm.py:690\u001b[0m, in \u001b[0;36mbuild_pipeline_graph\u001b[0;34m(input_types, output_type, registry, max_list_depth)\u001b[0m\n\u001b[1;32m    688\u001b[0m     G\u001b[39m.\u001b[39mremove_nodes_from(unreachable_nodes)\n\u001b[1;32m    689\u001b[0m \u001b[39mexcept\u001b[39;00m \u001b[39mKeyError\u001b[39;00m:\n\u001b[0;32m--> 690\u001b[0m     \u001b[39mraise\u001b[39;00m \u001b[39mTypeError\u001b[39;00m(\u001b[39m\"\u001b[39m\u001b[39mNo pipelines can be found!\u001b[39m\u001b[39m\"\u001b[39m)\n\u001b[1;32m    692\u001b[0m \u001b[39mreturn\u001b[39;00m PipelineSpace(G, input_types\u001b[39m=\u001b[39minput_types)\n",
      "\u001b[0;31mTypeError\u001b[0m: No pipelines can be found!"
     ]
    }
   ],
   "source": [
    "from autogoal.utils import Hour, Min\n",
    "from autogoal.ml import AutoML\n",
    "from autogoal.search import (\n",
    "    RichLogger,\n",
    "    PESearch,\n",
    ")\n",
    "\n",
    "from autogoal.kb import *\n",
    "\n",
    "from autogoal_contrib import find_classes\n",
    "from autogoal.metalearning.image_metafeatures import ImageMetafeatureExtractor\n",
    "\n",
    "\n",
    "classifier = AutoML(\n",
    "    dataset_type= ImageMetafeatureExtractor(),\n",
    "    search_algorithm= PESearch,\n",
    "    input=(Tensor4, Supervised[VectorCategorical]),\n",
    "    output=VectorCategorical,\n",
    "    cross_validation_steps=1,\n",
    "    # Since we only want to try neural networks, we restrict\n",
    "    # the contrib registry to algorithms matching with `Keras`.\n",
    "    registry=find_classes(\"Keras\"),\n",
    "    errors=\"raise\",\n",
    "    # Since image classifiers are heavy to train, let's give them a longer timeout...\n",
    "    evaluation_timeout=5 * Min,\n",
    "    search_timeout=1 * Hour,\n",
    ")\n",
    "y = np.array(vectorized_y)\n",
    "classifier.fit(X, y, logger=RichLogger())   "
   ]
  }
 ],
 "metadata": {
  "kernelspec": {
   "display_name": "Python 3",
   "language": "python",
   "name": "python3"
  },
  "language_info": {
   "codemirror_mode": {
    "name": "ipython",
    "version": 3
   },
   "file_extension": ".py",
   "mimetype": "text/x-python",
   "name": "python",
   "nbconvert_exporter": "python",
   "pygments_lexer": "ipython3",
   "version": "3.9.16"
  },
  "orig_nbformat": 4
 },
 "nbformat": 4,
 "nbformat_minor": 2
}
